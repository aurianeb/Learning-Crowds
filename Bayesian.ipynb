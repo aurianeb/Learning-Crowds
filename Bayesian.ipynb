{
 "cells": [
  {
   "cell_type": "markdown",
   "metadata": {},
   "source": [
    "# Approche Bayésienne"
   ]
  },
  {
   "cell_type": "code",
   "execution_count": 1,
   "metadata": {
    "collapsed": false
   },
   "outputs": [
    {
     "name": "stderr",
     "output_type": "stream",
     "text": [
      "/Users/aurianeblarre/miniconda3/lib/python3.4/site-packages/matplotlib/__init__.py:1350: UserWarning:  This call to matplotlib.use() has no effect\n",
      "because the backend has already been chosen;\n",
      "matplotlib.use() must be called *before* pylab, matplotlib.pyplot,\n",
      "or matplotlib.backends is imported for the first time.\n",
      "\n",
      "  warnings.warn(_use_error_msg)\n"
     ]
    }
   ],
   "source": [
    "%matplotlib inline\n",
    "import matplotlib\n",
    "matplotlib.use('TkAgg')\n",
    "import matplotlib.pyplot as plt\n",
    "import pandas as pd\n",
    "import numpy as np"
   ]
  },
  {
   "cell_type": "code",
   "execution_count": 2,
   "metadata": {
    "collapsed": true
   },
   "outputs": [],
   "source": [
    "def sigma(z):\n",
    "    return 1/(1+np.exp(-z))\n",
    "\n",
    "def logit(z):\n",
    "    return np.log(z/(1-z))"
   ]
  },
  {
   "cell_type": "code",
   "execution_count": 29,
   "metadata": {
    "collapsed": false
   },
   "outputs": [],
   "source": [
    "class model:\n",
    "    \"\"\"Classe qui encapsule l'apprentissage\"\"\"\n",
    "    \n",
    "    def __init__(self, D, R):\n",
    "        \"\"\"Constructeur\"\"\"\n",
    "        \n",
    "        self.D = D #Nombre de variables explicatives\n",
    "        self.R = R #Nombre d'annotateurs\n",
    "     \n",
    "    \n",
    "    def chargeData(self, path, recentrage = True):\n",
    "        \"\"\"Fonction qui charge les données avec path le chemin du fichier CSV. \n",
    "        Par défault, on impose un recentrage des donnée\"\"\"\n",
    "        \n",
    "        data = pd.read_csv(path, delimiter = \";\")\n",
    "        self.trueLabel = np.array(data.ix[:,self.D])\n",
    "        self.y = np.array(data.ix[:,self.D+1:]) #labels des annotateurs\n",
    "        x = np.array(data.ix[:,0:self.D]) #variables explicatives\n",
    "        if (recentrage):\n",
    "            self.x = (x -np.mean(x,axis=0))/(np.std(x, axis=0))\n",
    "        else:\n",
    "            self.x = x\n",
    "        self.N = self.y.shape[0] #Nombre de lignes\n",
    "     \n",
    "    def initPrior(self,mean_prior1, var_prior1, mean_prior2, var_prior2, gamma_prior):\n",
    "        \"\"\"Initialise les priors sur alpha, beta, et gamma\"\"\"\n",
    "        \n",
    "        self.a_prior = np.random.rand(2,R) \n",
    "        self.b_prior = np.random.rand(2,R)\n",
    "        for i in range(0,R):\n",
    "            self.a_prior[0][i] = (-mean_prior1[i]**3 + mean_prior1[i]**2 -mean_prior1[i]*var_prior1[i]**2)/var_prior1[i]**2\n",
    "            self.a_prior[1][i] = self.a_prior[0][i]*(1-mean_prior1[i])/mean_prior1[i]\n",
    "            self.b_prior[0][i] = (-mean_prior2[i]**3 + mean_prior2[i]**2 -mean_prior2[i]*var_prior2[i]**2)/var_prior2[i]**2\n",
    "            self.b_prior[1][i] = self.b_prior[0][i]*(1-mean_prior2[i])/mean_prior2[i]\n",
    "        \n",
    "        self.gamma_prior = np.linalg.inv(gamma_prior)\n",
    "    \n",
    "    def initMu(self):\n",
    "        \"\"\"Initialisation de mu\"\"\"\n",
    "        \n",
    "        self.mu = []\n",
    "        for i in range(0,self.N):\n",
    "            self.mu.append(np.sum(self.y[i])/self.R)\n",
    "    \n",
    "    \n",
    "    def ai(self):\n",
    "        \"\"\"Update du vecteur a (1xN)\"\"\"\n",
    "        \n",
    "        a = []\n",
    "        for i in range(0,self.N):\n",
    "            proda = 1\n",
    "            for j in range(0,self.R):\n",
    "                proda = proda*self.alpha[j]**(self.y[i][j])*(1-self.alpha[j])**(1-self.y[i][j])\n",
    "            a.append(proda)\n",
    "        self.a = a\n",
    "    \n",
    "    \n",
    "    def bi(self):\n",
    "        \"\"\"Update du vecteur b (1xN)\"\"\"\n",
    "        \n",
    "        b = []\n",
    "        for i in range(0,self.N):\n",
    "            prodb = 1\n",
    "            for j in range(0,self.R):\n",
    "                prodb = prodb*self.beta[j]**(1-self.y[i][j])*(1-self.beta[j])**(self.y[i][j])\n",
    "            b.append(prodb)\n",
    "        self.b = b\n",
    "       \n",
    "    \n",
    "    def pi(self):\n",
    "        \"\"\"Update du vecteur p (1xN)\"\"\"\n",
    "        \n",
    "        p = []\n",
    "        for i in range(0,self.N):\n",
    "            p.append(sigma(self.x[i].dot(self.w.T)))\n",
    "        self.p = p\n",
    "       \n",
    "    \n",
    "    def mui(self):\n",
    "        \"\"\"Update du vecteur mu (1xN). C'est l'étape E.\"\"\"\n",
    "        self.ai()\n",
    "        self.bi()\n",
    "        self.pi()\n",
    "        mu = []\n",
    "        for i in range(0,self.N):\n",
    "            mu.append(self.a[i]*self.p[i]/(self.a[i]*self.p[i]+self.b[i]*(1-self.p[i])))\n",
    "        self.mu = mu        \n",
    "      \n",
    "    \n",
    "    def logLikelihood(self):\n",
    "        \"\"\"Calcul de la log-vraissemblance.\"\"\"\n",
    "        \n",
    "        self.ai()\n",
    "        self.bi()\n",
    "        self.pi()\n",
    "    \n",
    "        #On calcule directement la log-vraissemblance.\n",
    "        vraissemblance = 0\n",
    "        for i in range(0,self.N):\n",
    "            vraissemblance = vraissemblance + np.log((self.a[i]*self.p[i])+self.b[i]*(1-self.p[i]))\n",
    "        return vraissemblance\n",
    "    \n",
    "    \n",
    "    def alphaUpdate(self):\n",
    "        \"\"\"Update du vecteur alpha sensitivity (1xR)\"\"\"\n",
    "        \n",
    "        alpha = []\n",
    "        for j in range(0,self.R):\n",
    "            tmp1 = 0\n",
    "            tmp2 = 0\n",
    "            for i in range(0,self.N):\n",
    "                tmp1 += self.mu[i]*self.y[i][j]\n",
    "                tmp2 += self.mu[i]\n",
    "            alpha.append((self.a_prior[0][j]-1+tmp1)/(self.a_prior[0][j]+self.a_prior[1][j]-2+tmp2))\n",
    "        self.alpha = alpha\n",
    "\n",
    "        \n",
    "    def betaUpdate(self):\n",
    "        \"\"\"Update du vecteur beta specificity (1xR)\"\"\"\n",
    "        \n",
    "        beta = []\n",
    "        for j in range(0,self.R):\n",
    "            tmp1 = 0\n",
    "            tmp2 = 0\n",
    "            for i in range(0,self.N):\n",
    "                tmp1 += (1-self.mu[i])*(1-self.y[i][j])\n",
    "                tmp2 += 1-self.mu[i]\n",
    "            beta.append((self.b_prior[0][j]-1+tmp1)/(self.b_prior[0][j]+self.b_prior[1][j]-2+tmp2))\n",
    "        self.beta = beta\n",
    "\n",
    "        \n",
    "    def wUpdate(self):\n",
    "        \"\"\"Update du vecteur poids w (1xR)\"\"\"\n",
    "        \n",
    "        g = 0\n",
    "        for i in range(0,self.N):\n",
    "            g += (self.mu[i] - sigma(self.x[i].dot(self.w.T)))*self.x[i]\n",
    "        tmp = np.reshape(-self.gamma_prior.dot(self.w.T),g.shape) # (11,1) -> (11,)\n",
    "        g += tmp\n",
    "    \n",
    "        H = np.zeros((self.D,self.D))\n",
    "        for i in range(0,self.N):\n",
    "            H -= sigma(self.x[i].dot(self.w.T))*(1-sigma(self.x[i].dot(self.w.T)))*((self.x[i].reshape(self.D,1))*(self.x[i].reshape(1,self.D)))\n",
    "        H -= self.gamma_prior\n",
    "        self.w = self.w - self.eta*np.linalg.inv(H).dot(g)\n",
    "    \n",
    "    \n",
    "    def score(self, seuil = 1/2):\n",
    "        \"\"\"Quel est le score d'apprentissage de notre modèle ?\"\"\"\n",
    "        return np.mean(np.equal(self.trueLabel, np.array(self.mu)>seuil))\n",
    "    \n",
    "    \n",
    "    def scoreMoy(self, seuil = 1/2):\n",
    "        \"\"\"Quel serait le score si on fesait naïvement la moyenne des avis des annotateurs ?\"\"\"\n",
    "        return np.mean(np.equal(self.trueLabel, np.mean(self.y, axis = 1)>seuil))\n",
    "\n",
    "    \n",
    "    def train(self, mean_prior1, var_prior1, mean_prior2, var_prior2, gamma_prior, maxIter = 1000, eta = 0.01, epsilon = 0.01, graphe=True):\n",
    "        \"\"\"Fonction qui lance l'entrainement du modèle.\n",
    "        La variable graphe sert à plotter la log-likelihood au fil des itérations.\n",
    "        La log-likelihood devrait être croissante.\"\"\"\n",
    "        \n",
    "        self.maxIter = maxIter\n",
    "        self.eta = eta\n",
    "        \n",
    "        self.initPrior(mean_prior1, var_prior1, mean_prior2, var_prior2, gamma_prior)\n",
    "        self.initMu()\n",
    "        self.alphaUpdate()\n",
    "        self.betaUpdate()\n",
    "        self.w = np.random.rand(1,self.D)\n",
    "\n",
    "        compteur = 0\n",
    "        self.histLogLikelihood = []\n",
    "        #while (np.linalg.norm(diff_w) > 0.001) : # Limite de convergence à decider\n",
    "        while (compteur < maxIter):\n",
    "            self.mui()\n",
    "            self.alphaUpdate()\n",
    "            self.betaUpdate()\n",
    "            wOld = self.w\n",
    "            self.wUpdate()\n",
    "            wNew = self.w\n",
    "            \n",
    "            self.histLogLikelihood.append(self.logLikelihood())\n",
    "            diffW = wOld - wNew\n",
    "            if (np.linalg.norm(diffW) < epsilon):\n",
    "                print(\"SEUIL DE CONVERGENCE SUR W ATTEINT\")\n",
    "                print (\"ITERATION : \", compteur)\n",
    "                print(\"Vraissemblance : \", self.logLikelihood())\n",
    "                print(\"Norme de diff_w : \", np.linalg.norm(diffW))\n",
    "                print(\"Alpha : \", self.alpha)\n",
    "                print(\"Beta : \", self.beta)\n",
    "                break\n",
    "            \n",
    "            if (compteur % 100 == 0):\n",
    "                print (\"ITERATION : \", compteur)\n",
    "                print(\"Vraissemblance : \", self.logLikelihood())\n",
    "                print(\"Norme de diff_w : \", np.linalg.norm(diffW))\n",
    "                print(\"Alpha : \", self.alpha)\n",
    "                print(\"Beta : \", self.beta)\n",
    "            compteur = compteur + 1\n",
    "        \n",
    "        if graphe:\n",
    "            plt.plot(self.histLogLikelihood)\n",
    "            plt.title('Log-vraissemblance au fil des itérations')"
   ]
  },
  {
   "cell_type": "code",
   "execution_count": 30,
   "metadata": {
    "collapsed": true
   },
   "outputs": [],
   "source": [
    "#Paramètres du data set\n",
    "D = 10\n",
    "R = 5"
   ]
  },
  {
   "cell_type": "code",
   "execution_count": 31,
   "metadata": {
    "collapsed": false
   },
   "outputs": [],
   "source": [
    "#Nos hypothèses\n",
    "#Sensitivity\n",
    "mean_prior1 = np.random.rand(R) #Quel pourcentage de bonnes réponses l'expert donne en moyenne ?\n",
    "var_prior1 = np.random.rand(R) #Avec quelle incertitude ?\n",
    "#Sensibility\n",
    "mean_prior2 = np.random.rand(R) #Quel pourcentage de bonnes réponses l'expert donne en moyenne ?\n",
    "var_prior2 = np.random.rand(R) #Avec quelle incertitude ?\n",
    "#Weights\n",
    "gamma_prior = np.random.rand(D,D)"
   ]
  },
  {
   "cell_type": "code",
   "execution_count": 32,
   "metadata": {
    "collapsed": false
   },
   "outputs": [
    {
     "name": "stdout",
     "output_type": "stream",
     "text": [
      "ITERATION :  0\n",
      "Vraissemblance :  [-1630.30349219]\n",
      "Norme de diff_w :  6.67799068014\n",
      "Alpha :  [array([ 0.7843264]), array([ 0.77853785]), array([ 0.61613022]), array([ 0.58009858]), array([ 0.54515102])]\n",
      "Beta :  [array([ 0.93148135]), array([ 0.8496865]), array([ 0.64103951]), array([ 0.62649398]), array([ 0.59611901])]\n",
      "ITERATION :  100\n",
      "Vraissemblance :  [-1606.46389163]\n",
      "Norme de diff_w :  11.78917602\n",
      "Alpha :  [array([ 0.0489696]), array([ 0.13495603]), array([ 0.36908594]), array([ 0.39071729]), array([ 0.43935584])]\n",
      "Beta :  [array([ 0.19486751]), array([ 0.20754657]), array([ 0.40019634]), array([ 0.44544671]), array([ 0.47678605])]\n",
      "ITERATION :  200\n",
      "Vraissemblance :  [-1682.52524832]\n",
      "Norme de diff_w :  25.2832600048\n",
      "Alpha :  [array([ 0.66500573]), array([ 0.66667561]), array([ 0.58437269]), array([ 0.53957804]), array([ 0.52938864])]\n",
      "Beta :  [array([ 0.87765628]), array([ 0.79664543]), array([ 0.63119742]), array([ 0.6059311]), array([ 0.58894451])]\n",
      "ITERATION :  300\n",
      "Vraissemblance :  [-1998.61113834]\n",
      "Norme de diff_w :  23.0770659299\n",
      "Alpha :  [array([ 0.06335831]), array([ 0.13777956]), array([ 0.37042604]), array([ 0.38948876]), array([ 0.45085599])]\n",
      "Beta :  [array([ 0.16815473]), array([ 0.16983026]), array([ 0.38746936]), array([ 0.43316716]), array([ 0.49175603])]\n",
      "ITERATION :  400\n",
      "Vraissemblance :  [-1927.27942106]\n",
      "Norme de diff_w :  21.1592388615\n",
      "Alpha :  [array([ 0.0341241]), array([ 0.14011747]), array([ 0.36323675]), array([ 0.38406829]), array([ 0.44396569])]\n",
      "Beta :  [array([ 0.09842358]), array([ 0.15211845]), array([ 0.36869504]), array([ 0.4191898]), array([ 0.47721364])]\n"
     ]
    },
    {
     "data": {
      "image/png": "[encoded data removed]",
      "text/plain": [
       "<matplotlib.figure.Figure at 0x10ad4bf60>"
      ]
     },
     "metadata": {},
     "output_type": "display_data"
    }
   ],
   "source": [
    "breast = model(D, R)\n",
    "breast.chargeData('Datasets/BreastCancer/DB_wdbc.csv')\n",
    "breast.train(mean_prior1, var_prior1, mean_prior2, var_prior2, gamma_prior,maxIter = 500, eta = 1, graphe = True)"
   ]
  },
  {
   "cell_type": "markdown",
   "metadata": {},
   "source": [
    "# LE RESTE EST UN BROUILLON"
   ]
  },
  {
   "cell_type": "code",
   "execution_count": 2,
   "metadata": {
    "collapsed": false
   },
   "outputs": [],
   "source": [
    "wine = pd.read_csv('Datasets/whiteWine.csv', delimiter = \";\")"
   ]
  },
  {
   "cell_type": "code",
   "execution_count": 3,
   "metadata": {
    "collapsed": false
   },
   "outputs": [],
   "source": [
    "d = 11  #descripteurs\n",
    "N =  wine.shape[0] #produits à tester\n",
    "R = 5 #experts\n",
    "\n",
    "y = np.array(wine.ix[:,d+2:]) #labels des annotateurs\n",
    "x = np.array(wine.ix[:,0:d]) #variables explicatives\n",
    "w0 = np.random.rand(1,d)"
   ]
  },
  {
   "cell_type": "markdown",
   "metadata": {},
   "source": [
    "## Initialisation"
   ]
  },
  {
   "cell_type": "code",
   "execution_count": 11,
   "metadata": {
    "collapsed": false,
    "scrolled": true
   },
   "outputs": [],
   "source": [
    "def init_mu(y):\n",
    "\tmu = []\n",
    "\tfor i in range(0,N):\n",
    "\t\tmu.append(np.sum(y[i])/R)\n",
    "\treturn mu\n",
    "\n",
    "mu0 = init_mu(y)\n",
    "\n",
    "def sigma(z):\n",
    "    return 1/(1+np.exp(-z))\n",
    "\n",
    "def logit(z):\n",
    "    return np.log(z/(1-z))"
   ]
  },
  {
   "cell_type": "code",
   "execution_count": 5,
   "metadata": {
    "collapsed": false
   },
   "outputs": [],
   "source": [
    "#Nos hypothèses\n",
    "#Sensitivity\n",
    "mean_prior1 = np.random.rand(R) #Quel pourcentage de bonnes réponses l'expert donne en moyenne ?\n",
    "var_prior1 = np.random.rand(R) #Avec quelle incertitude ?\n",
    "#Sensibility\n",
    "mean_prior2 = np.random.rand(R) #Quel pourcentage de bonnes réponses l'expert donne en moyenne ?\n",
    "var_prior2 = np.random.rand(R) #Avec quelle incertitude ?\n",
    "#Weights\n",
    "gamma_prior = np.random.rand(d,d)\n",
    "\n",
    "#On en déduit les paramètres \n",
    "a_prior = np.random.rand(2,R) \n",
    "b_prior = np.random.rand(2,R)\n",
    "for i in range(0,R):\n",
    "    a_prior[0][i] = (-mean_prior1[i]**3 + mean_prior1[i]**2 -mean_prior1[i]*var_prior1[i]**2)/var_prior1[i]**2\n",
    "    a_prior[1][i] = a_prior[0][i]*(1-mean_prior1[i])/mean_prior1[i]\n",
    "    b_prior[0][i] = (-mean_prior2[i]**3 + mean_prior2[i]**2 -mean_prior2[i]*var_prior2[i]**2)/var_prior2[i]**2\n",
    "    b_prior[1][i] = b_prior[0][i]*(1-mean_prior2[i])/mean_prior2[i]\n",
    "\n",
    "\n",
    "gamma_prior = np.linalg.inv(gamma_prior)"
   ]
  },
  {
   "cell_type": "markdown",
   "metadata": {},
   "source": [
    "## Etape E"
   ]
  },
  {
   "cell_type": "code",
   "execution_count": 6,
   "metadata": {
    "collapsed": false
   },
   "outputs": [],
   "source": [
    "#E-step\n",
    "\n",
    "def ai(alpha,y):\n",
    "    a = []\n",
    "    for i in range(0,N):\n",
    "        proda = 1\n",
    "        for j in range(0,R):\n",
    "            proda = proda*alpha[j]**(y[i][j])*(1-alpha[j])**(1-y[i][j])\n",
    "        a.append(proda)\n",
    "    return a\n",
    "\n",
    "def bi(beta,y):\n",
    "    b = []\n",
    "    for i in range(0,N):\n",
    "        prodb = 1\n",
    "        for j in range(0,R):\n",
    "            prodb = prodb*beta[j]**(1-y[i][j])*(1-beta[j])**(y[i][j])\n",
    "        b.append(prodb)\n",
    "    return b\n",
    "\n",
    "def pi(x,w):\n",
    "    p = []\n",
    "    for i in range(0,N):\n",
    "        p.append(sigma(x[i].dot(w.T)))\n",
    "    return p\n",
    "\n",
    "def mui(a,b,p):\n",
    "    mu = []\n",
    "    for i in range(0,N):\n",
    "        mu.append(a[i]*p[i]/(a[i]*p[i]+b[i]*(1-p[i])))\n",
    "    return mu\n",
    "\n",
    "def E_step(x,y,alpha,beta,w):\n",
    "    a = ai(alpha,y)\n",
    "    b = bi(beta,y)\n",
    "    p = pi(x,w)\n",
    "    mu = mui(a,b,p)\n",
    "    return mu\n"
   ]
  },
  {
   "cell_type": "markdown",
   "metadata": {},
   "source": [
    "## Maximum Log - Likelihood Estimator"
   ]
  },
  {
   "cell_type": "code",
   "execution_count": 7,
   "metadata": {
    "collapsed": true
   },
   "outputs": [],
   "source": [
    "def logLikelihood(w, y, alpha, beta):\n",
    "    a = ai(alpha, y)\n",
    "    b = bi(beta, y)\n",
    "    p = pi(x, w)\n",
    "    \n",
    "    #On calcule directement la log-vraissemblance.\n",
    "    vraissemblance = 0\n",
    "    for i in range(0,N):\n",
    "        vraissemblance = vraissemblance + np.log((a[i]*p[i])+b[i]*(1-p[i]))\n",
    "        \n",
    "    return vraissemblance"
   ]
  },
  {
   "cell_type": "markdown",
   "metadata": {},
   "source": [
    "## Étape M"
   ]
  },
  {
   "cell_type": "code",
   "execution_count": 8,
   "metadata": {
    "collapsed": false
   },
   "outputs": [],
   "source": [
    "#M-step\n",
    "\n",
    "def alpha_function(mu,y,a_prior):\n",
    "\talpha = []\n",
    "\tfor j in range(0,R):\n",
    "\t\ttmp1 = 0\n",
    "\t\ttmp2 = 0\n",
    "\t\tfor i in range(0,N):\n",
    "\t\t\ttmp1 += mu[i]*y[i][j]\n",
    "\t\t\ttmp2 += mu[i]\n",
    "\t\talpha.append((a_prior[0][j]-1+tmp1)/(a_prior[0][j]+a_prior[1][j]-2+tmp2))\n",
    "\treturn alpha\n",
    "\n",
    "def beta_function(mu,y,b_prior):\n",
    "\tbeta = []\n",
    "\tfor j in range(0,R):\n",
    "\t\ttmp1 = 0\n",
    "\t\ttmp2 = 0\n",
    "\t\tfor i in range(0,N):\n",
    "\t\t\ttmp1 += (1-mu[i])*(1-y[i][j])\n",
    "\t\t\ttmp2 += 1-mu[i]\n",
    "\t\tbeta.append((b_prior[0][j]-1+tmp1)/(b_prior[0][j]+b_prior[1][j]-2+tmp2))\n",
    "\treturn beta\n",
    "\n",
    "def updateW(w,x, eta, mu, gamma_prior):\n",
    "    g = 0\n",
    "    for i in range(0,N):\n",
    "        g += (mu[i] - sigma(x[i].dot(w.T)))*x[i]\n",
    "    tmp = np.reshape(-gamma_prior.dot(w.T),g.shape) # (11,1) -> (11,)\n",
    "    g += tmp\n",
    "    \n",
    "    H = np.zeros((d,d))\n",
    "    for i in range(0,N):\n",
    "        H -= sigma(x[i].dot(w.T))*(1-sigma(x[i].dot(w.T)))*((x[i].reshape(11,1))*(x[i].reshape(1,11)))\n",
    "    H -= gamma_prior\n",
    "    w = w - eta*np.linalg.inv(H).dot(g)\n",
    "    return w"
   ]
  },
  {
   "cell_type": "code",
   "execution_count": 9,
   "metadata": {
    "collapsed": false
   },
   "outputs": [
    {
     "data": {
      "text/plain": [
       "array([[-35334.92901159, -28871.41002449, -37022.64471383, -24159.64331136,\n",
       "        -33242.01854823, -20056.53651041, -34332.7256707 ,  -6830.87748493,\n",
       "        -27080.53161824, -13806.67227696, -20106.51189462]])"
      ]
     },
     "execution_count": 9,
     "metadata": {},
     "output_type": "execute_result"
    }
   ],
   "source": [
    "updateW(w0,x,0.1,mu0,gamma_prior)"
   ]
  },
  {
   "cell_type": "markdown",
   "metadata": {},
   "source": [
    "## Itérations"
   ]
  },
  {
   "cell_type": "code",
   "execution_count": 10,
   "metadata": {
    "collapsed": false,
    "scrolled": true
   },
   "outputs": [
    {
     "name": "stdout",
     "output_type": "stream",
     "text": [
      "ITERATION :  0\n",
      "Vraissemblance :  [-12941.84181545]\n",
      "Norme de diff_w :  0.0189439655636\n",
      "Alpha :  [array([ 0.89419982]), array([ 0.70627847]), array([ 0.51154001]), array([ 0.40361302]), array([ 0.1026994])]\n",
      "Beta :  [array([ 0.4933009]), array([ 0.39185742]), array([ 0.55288447]), array([ 0.55593145]), array([ 0.84461565])]\n",
      "ITERATION :  10\n",
      "Vraissemblance :  [-12941.84181559]\n",
      "Norme de diff_w :  0.0171301718401\n",
      "Alpha :  [array([ 0.89419982]), array([ 0.70627847]), array([ 0.51154001]), array([ 0.40361302]), array([ 0.1026994])]\n",
      "Beta :  [array([ 0.49330092]), array([ 0.39185747]), array([ 0.55288447]), array([ 0.55593144]), array([ 0.84461576])]\n",
      "ITERATION :  20\n",
      "Vraissemblance :  [-12941.84181615]\n",
      "Norme de diff_w :  0.0154828695169\n",
      "Alpha :  [array([ 0.89419982]), array([ 0.70627847]), array([ 0.51154001]), array([ 0.40361302]), array([ 0.1026994])]\n",
      "Beta :  [array([ 0.49330103]), array([ 0.39185767]), array([ 0.55288445]), array([ 0.55593141]), array([ 0.84461627])]\n",
      "ITERATION :  30\n",
      "Vraissemblance :  [-12941.84181812]\n",
      "Norme de diff_w :  0.0139711304341\n",
      "Alpha :  [array([ 0.89419982]), array([ 0.70627847]), array([ 0.51154001]), array([ 0.40361302]), array([ 0.1026994])]\n",
      "Beta :  [array([ 0.49330142]), array([ 0.39185836]), array([ 0.55288442]), array([ 0.55593129]), array([ 0.84461821])]\n",
      "ITERATION :  40\n",
      "Vraissemblance :  [-12941.84182403]\n",
      "Norme de diff_w :  0.0125448593163\n",
      "Alpha :  [array([ 0.89419982]), array([ 0.70627847]), array([ 0.51154001]), array([ 0.40361302]), array([ 0.1026994])]\n",
      "Beta :  [array([ 0.49330257]), array([ 0.3918603]), array([ 0.55288443]), array([ 0.55593088]), array([ 0.84462474])]\n",
      "ITERATION :  50\n",
      "Vraissemblance :  [-12941.84183913]\n",
      "Norme de diff_w :  0.0111257616387\n",
      "Alpha :  [array([ 0.89419983]), array([ 0.70627847]), array([ 0.51154001]), array([ 0.40361301]), array([ 0.1026994])]\n",
      "Beta :  [array([ 0.49330552]), array([ 0.39186481]), array([ 0.5528848]), array([ 0.5559297]), array([ 0.84464394])]\n",
      "ITERATION :  60\n",
      "Vraissemblance :  [-12941.84187111]\n",
      "Norme de diff_w :  0.00964115269927\n",
      "Alpha :  [array([ 0.89419983]), array([ 0.70627847]), array([ 0.51154001]), array([ 0.40361301]), array([ 0.1026994])]\n",
      "Beta :  [array([ 0.49331172]), array([ 0.39187297]), array([ 0.55288661]), array([ 0.55592675]), array([ 0.84469191])]\n",
      "ITERATION :  70\n",
      "Vraissemblance :  [-12941.84192556]\n",
      "Norme de diff_w :  0.00813492985545\n",
      "Alpha :  [array([ 0.89419983]), array([ 0.70627847]), array([ 0.51154001]), array([ 0.40361299]), array([ 0.1026994])]\n",
      "Beta :  [array([ 0.49332217]), array([ 0.39188359]), array([ 0.55289192]), array([ 0.55592076]), array([ 0.84478952])]\n",
      "ITERATION :  80\n",
      "Vraissemblance :  [-12941.84200015]\n",
      "Norme de diff_w :  0.00678528456894\n",
      "Alpha :  [array([ 0.89419984]), array([ 0.70627847]), array([ 0.51154001]), array([ 0.40361297]), array([ 0.10269941])]\n",
      "Beta :  [array([ 0.49333627]), array([ 0.39189246]), array([ 0.55290288]), array([ 0.55591103]), array([ 0.84494825])]\n",
      "ITERATION :  90\n",
      "Vraissemblance :  [-12941.84208632]\n",
      "Norme de diff_w :  0.00571025943566\n",
      "Alpha :  [array([ 0.89419985]), array([ 0.70627848]), array([ 0.51154]), array([ 0.40361294]), array([ 0.10269941])]\n",
      "Beta :  [array([ 0.49335217]), array([ 0.39189524]), array([ 0.55292015]), array([ 0.55589791]), array([ 0.84516111])]\n"
     ]
    }
   ],
   "source": [
    "mu = init_mu(y)\n",
    "alpha = alpha_function(mu,y,a_prior)\n",
    "beta = beta_function(mu,y,b_prior)\n",
    "diff_w = 10\n",
    "w = w0\n",
    "\n",
    "compteur = 0\n",
    "\n",
    "#while (np.linalg.norm(diff_w) > 0.001) : # Limite de convergence à decider\n",
    "while (compteur < 100):\n",
    "    mu = E_step(x,y,alpha,beta,w)\n",
    "    alpha = alpha_function(mu,y,a_prior)\n",
    "    beta = beta_function(mu,y,b_prior)\n",
    "    w_bis = updateW(w,x,0.01,mu,gamma_prior)\n",
    "    diff_w = w - w_bis\n",
    "    w = w_bis\n",
    "    if (compteur % 10 == 0):\n",
    "        print (\"ITERATION : \", compteur)\n",
    "        print(\"Vraissemblance : \", logLikelihood(w, y, alpha, beta))\n",
    "        print(\"Norme de diff_w : \", np.linalg.norm(diff_w))\n",
    "        print(\"Alpha : \", alpha)\n",
    "        print(\"Beta : \", beta)\n",
    "    compteur = compteur + 1"
   ]
  },
  {
   "cell_type": "code",
   "execution_count": 29,
   "metadata": {
    "collapsed": false,
    "scrolled": false
   },
   "outputs": [
    {
     "name": "stdout",
     "output_type": "stream",
     "text": [
      "[[  6.85478903e+00]\n",
      " [  2.78241174e-01]\n",
      " [  3.34191573e-01]\n",
      " [  6.39141613e+00]\n",
      " [  4.57723652e-02]\n",
      " [  3.53080920e+01]\n",
      " [  1.38360685e+02]\n",
      " [  9.94027574e-01]\n",
      " [  3.18826727e+00]\n",
      " [  4.89846974e-01]\n",
      " [  1.05142691e+01]] [[  0.00000000e+00]\n",
      " [  0.00000000e+00]\n",
      " [  1.85919375e-09]\n",
      " [  0.00000000e+00]\n",
      " [  0.00000000e+00]\n",
      " [ -2.10763051e-07]\n",
      " [  0.00000000e+00]\n",
      " [  0.00000000e+00]\n",
      " [  0.00000000e+00]\n",
      " [  0.00000000e+00]\n",
      " [ -3.53501284e-03]]\n"
     ]
    }
   ],
   "source": [
    "#weight of each expert\n",
    "weights = logit(np.array(alpha))+logit(np.array(beta))\n",
    "\n",
    "#Sensitivity and sensibility of classifiers\n",
    "alpha_clas = []\n",
    "beta_clas = []\n",
    "for j in range(0,d):\n",
    "    tmp = 0\n",
    "    tmp2 = 0\n",
    "    for i in range(0,N):\n",
    "        tmp += mu[j]*x[i][j]\n",
    "        tmp2 += (1-mu[j])*(1-x[i][j])\n",
    "    alpha_clas.append(tmp/np.sum(mu))\n",
    "    beta_clas.append(tmp2/(N-np.sum(mu)))\n",
    "alpha_clas = np.array(alpha_clas)\n",
    "beta_clas = np.array(beta_clas)\n"
   ]
  },
  {
   "cell_type": "code",
   "execution_count": null,
   "metadata": {
    "collapsed": false
   },
   "outputs": [],
   "source": [
    "class model:\n",
    "    \"\"\"Classe qui encapsule l'apprentissage\"\"\"\n",
    "    \n",
    "    def __init__(self, maxIter = 10000, eta = 0.01):\n",
    "        \"\"\"Constructeur\"\"\"\n",
    "        self.maxIter = maxIter\n",
    "        self.eta = eta\n",
    "        \n",
    "    def initMu(self, y):\n",
    "        \"\"\"Initialisation de mu\"\"\"\n",
    "        mu = []\n",
    "        for i in range(0,N):\n",
    "            mu.append(np.sum(y[i])/R)\n",
    "        return mu\n",
    "    \n",
    "    def ai(self, alpha, y):\n",
    "        \"\"\"Update du vecteur a (1xN)\"\"\"\n",
    "        a = []\n",
    "        for i in range(0,N):\n",
    "            proda = 1\n",
    "        for j in range(0,R):\n",
    "            proda = proda*alpha[j]**(y[i][j])*(1-alpha[j])**(1-y[i][j])\n",
    "            a.append(proda)\n",
    "        self.a = a\n",
    "        \n",
    "    def bi(self, beta, y):\n",
    "        \"\"\"Update du vecteur b (1xN)\"\"\"\n",
    "        b = []\n",
    "        for i in range(0,N):\n",
    "            prodb = 1\n",
    "        for j in range(0,R):\n",
    "            prodb = prodb*beta[j]**(1-y[i][j])*(1-beta[j])**(y[i][j])\n",
    "            b.append(prodb)\n",
    "        self.b = b\n",
    "        \n",
    "    def pi(self, x, w):\n",
    "        \"\"\"Update du vecteur p (1xN)\"\"\"\n",
    "        p = []\n",
    "        for i in range(0,N):\n",
    "            p.append(sigma(x[i].dot(w.T)))\n",
    "        self.p = p\n",
    "        \n",
    "    def mui(self, a,b,p):\n",
    "        \"\"\"Update de\"\"\"\n",
    "        mu = []\n",
    "        for i in range(0,N):\n",
    "            mu.append(a[i]*p[i]/(a[i]*p[i]+b[i]*(1-p[i])))\n",
    "        self.mu = mu\n",
    "    \n",
    "    def EStep(x,y,alpha,beta,w):\n",
    "        CE = 0 #Conditionnal excepectation\n",
    "        a = ai(alpha,y)\n",
    "        b = bi(beta,y)\n",
    "        p = pi(x,w)\n",
    "        mu = mui(a,b,p)\n",
    "        for i in range(0,N):\n",
    "            CE += mu[i]*np.log(p[i])*a[i]+(1-mu[i])*np.log(1-p[i])*b[i]\n",
    "        "
   ]
  },
  {
   "cell_type": "code",
   "execution_count": null,
   "metadata": {
    "collapsed": false
   },
   "outputs": [],
   "source": []
  },
  {
   "cell_type": "code",
   "execution_count": null,
   "metadata": {
    "collapsed": true
   },
   "outputs": [],
   "source": []
  }
 ],
 "metadata": {
  "kernelspec": {
   "display_name": "Python 3",
   "language": "python",
   "name": "python3"
  },
  "language_info": {
   "codemirror_mode": {
    "name": "ipython",
    "version": 3
   },
   "file_extension": ".py",
   "mimetype": "text/x-python",
   "name": "python",
   "nbconvert_exporter": "python",
   "pygments_lexer": "ipython3",
   "version": "3.4.4"
  }
 },
 "nbformat": 4,
 "nbformat_minor": 0
}
