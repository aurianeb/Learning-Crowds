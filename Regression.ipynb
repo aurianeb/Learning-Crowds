{
 "cells": [
  {
   "cell_type": "markdown",
   "metadata": {},
   "source": [
    "# Regression"
   ]
  },
  {
   "cell_type": "code",
   "execution_count": 57,
   "metadata": {
    "collapsed": false
   },
   "outputs": [
    {
     "name": "stderr",
     "output_type": "stream",
     "text": [
      "C:\\Users\\srotc_000\\Anaconda3\\lib\\site-packages\\matplotlib\\__init__.py:1350: UserWarning:  This call to matplotlib.use() has no effect\n",
      "because the backend has already been chosen;\n",
      "matplotlib.use() must be called *before* pylab, matplotlib.pyplot,\n",
      "or matplotlib.backends is imported for the first time.\n",
      "\n",
      "  warnings.warn(_use_error_msg)\n"
     ]
    }
   ],
   "source": [
    "%matplotlib inline\n",
    "import matplotlib\n",
    "matplotlib.use('TkAgg')\n",
    "import matplotlib.pyplot as plt\n",
    "import pandas as pd\n",
    "import numpy as np\n",
    "from sklearn import linear_model"
   ]
  },
  {
   "cell_type": "code",
   "execution_count": 5,
   "metadata": {
    "collapsed": true
   },
   "outputs": [],
   "source": [
    "def normale(z, m, sigma):\n",
    "    \"\"\" Loi normale, z sachant m et sigma\"\"\"\n",
    "    return np.exp(-(z-m)**2/(2*sigma))/np.sqrt(2*np.pi*sigma)"
   ]
  },
  {
   "cell_type": "code",
   "execution_count": 62,
   "metadata": {
    "collapsed": false
   },
   "outputs": [],
   "source": [
    "class Regression:\n",
    "    \"\"\"Classe qui encapsule l'apprentissage\"\"\"\n",
    "    \n",
    "    def __init__(self, D, R):\n",
    "        \"\"\"Constructeur\"\"\"\n",
    "        \n",
    "        self.D = D #Nombre de variables explicatives\n",
    "        self.R = R #Nombre d'annotateurs\n",
    "     \n",
    "    \n",
    "    def chargeData(self, path, recentrage = True):\n",
    "        \"\"\"Fonction qui charge les données avec path le chemin du fichier CSV. \n",
    "        Par défault, on impose un recentrage des donnée\"\"\"\n",
    "        \n",
    "        data = pd.read_csv(path, delimiter = \";\")\n",
    "        self.trueLabel = np.array(data.ix[:,self.D])\n",
    "        self.y = np.array(data.ix[:,self.D+1:]) #labels des annotateurs\n",
    "        x = np.array(data.ix[:,0:self.D]) #variables explicatives\n",
    "        if (recentrage):\n",
    "            self.x = (x -np.mean(x,axis=0))/(np.std(x, axis=0))\n",
    "        else:\n",
    "            self.x = x\n",
    "        self.N = self.y.shape[0] #Nombre de lignes\n",
    "     \n",
    "    \n",
    "    def initw(self):\n",
    "        \"\"\"Initialisation de w\"\"\"\n",
    "\n",
    "        self.w = np.random.random_sample((self.D,))\n",
    "    \n",
    "    \n",
    "    def update_lambda(self):\n",
    "        \"\"\"Update du vecteur lambda (Rx1)\"\"\"\n",
    "        \n",
    "        lambd = []\n",
    "        for j in range(0,self.R):\n",
    "            tmp = 0\n",
    "            for i in range(0,self.N):\n",
    "                tmp += (self.y[i][j] - self.w.T.dot(self.x[i]))**2\n",
    "            tmp = tmp/self.N\n",
    "            lambd.append(1/tmp)\n",
    "        self.lambd = np.array(lambd)\n",
    "    \n",
    "    \n",
    "    def update_w(self):\n",
    "        \"\"\"Update du vecteur w (Nx1)\"\"\"\n",
    "        \n",
    "        w = 0\n",
    "        tmp = 0\n",
    "        for i in range(0,self.N):\n",
    "            tmp += self.x[i].dot(self.x[i].T)\n",
    "            tmp2 = 0\n",
    "            for j in range(0,self.R):\n",
    "                tmp2 += self.lambd[j]*self.y[i][j]\n",
    "            w += self.x[i]*tmp2/(np.sum(self.lambd))\n",
    "        self.w = self.w/tmp\n",
    "       \n",
    "    \n",
    "   \n",
    "    def logLikelihood(self):\n",
    "        \"\"\"Calcul de la log-vraissemblance.\"\"\"\n",
    "    \n",
    "        #On calcule directement la log-vraissemblance.\n",
    "        vraissemblance = 0\n",
    "        for i in range(0,self.N):\n",
    "            for j in range(0,self.R):\n",
    "                vraissemblance += np.log(normale(self.y[i][j],self.w.T.dot(self.x[i]),1/self.lambd[j]))\n",
    "        return vraissemblance\n",
    "    \n",
    "\n",
    "   \n",
    "    def score(self, seuil = 1/2):\n",
    "        \"\"\"Quel est le score d'apprentissage de notre modèle ?\"\"\"\n",
    "        return np.mean(np.equal(self.trueLabel, np.array(self.w.dot(self.x.T))>seuil))\n",
    "        \n",
    "        \n",
    "    def pred_labels(self):\n",
    "        #Label prédit par le modèle\n",
    "        #self.labels_predits = np.random.normal(self.w.T.dot(self.x),1/self.lambd[j])\n",
    "        self.labels_predits = self.x.dot(self.w)\n",
    "        \n",
    "    \n",
    "    def train(self, maxIter = 1000, minIter = 200, epsilon = 0.01, graphe=True):\n",
    "        \"\"\"Fonction qui lance l'entrainement du modèle.\n",
    "        La variable graphe sert à plotter la log-likelihood au fil des itérations.\n",
    "        La log-likelihood devrait être croissante.\"\"\"\n",
    "        \n",
    "        self.maxIter = maxIter\n",
    "        \n",
    "        self.initw()\n",
    "\n",
    "        compteur = 0\n",
    "        self.histLogLikelihood = []\n",
    "\n",
    "        while (compteur < maxIter):\n",
    "            self.update_lambda()\n",
    "            wOld = self.w\n",
    "            self.update_w()\n",
    "            wNew = self.w\n",
    "            self.histLogLikelihood.append(self.logLikelihood())\n",
    "            diffW = wOld - wNew\n",
    "            if (np.linalg.norm(diffW) < epsilon):\n",
    "                print(\"SEUIL DE CONVERGENCE SUR W ATTEINT\")\n",
    "                print (\"ITERATION : \", compteur)\n",
    "                print(\"Vraissemblance : \", self.logLikelihood())\n",
    "                print(\"Norme de diff_w : \", np.linalg.norm(diffW))\n",
    "                print(\"Lambda : \", self.lambd)\n",
    "                break\n",
    "            \n",
    "            if (compteur % 100 == 0):\n",
    "                print (\"ITERATION : \", compteur)\n",
    "                print(\"Vraissemblance : \", self.logLikelihood())\n",
    "                print(\"Norme de diff_w : \", np.linalg.norm(diffW))\n",
    "                print(\"Lambda : \", self.lambd)\n",
    "            compteur = compteur + 1\n",
    "        \n",
    "        if graphe:\n",
    "            plt.plot(self.histLogLikelihood)\n",
    "            plt.title('Log-vraissemblance au fil des itérations')\n",
    "       \n",
    "    \n",
    "    def linearRegression(self):\n",
    "        \"\"\"On entraine avec sklearn un modèle de régression linéaire sur les données.\"\"\"\n",
    "        \n",
    "        self.regr = linear_model.LinearRegression()\n",
    "        self.regr.fit(self.x, self.trueLabel)\n",
    "        print('Coefficients: \\n', regr.coef_)"
   ]
  },
  {
   "cell_type": "code",
   "execution_count": 63,
   "metadata": {
    "collapsed": false,
    "scrolled": false
   },
   "outputs": [
    {
     "name": "stdout",
     "output_type": "stream",
     "text": [
      "ITERATION :  0\n",
      "Vraissemblance :  -48488.7583085\n",
      "Norme de diff_w :  1.86446121802\n",
      "Lambda :  [ 0.01064981  0.01433536  0.01492962]\n",
      "SEUIL DE CONVERGENCE SUR W ATTEINT\n",
      "ITERATION :  3\n",
      "Vraissemblance :  -47734.431207\n",
      "Norme de diff_w :  6.02233617354e-13\n",
      "Lambda :  [ 0.00729328  0.00888601  0.00911226]\n"
     ]
    },
    {
     "data": {
      "image/png": "[encoded data removed]",
      "text/plain": [
       "<matplotlib.figure.Figure at 0x28571b9cbe0>"
      ]
     },
     "metadata": {},
     "output_type": "display_data"
    }
   ],
   "source": [
    "abalone = Regression(8, 3)\n",
    "abalone.chargeData('Datasets/Abalone/Abalone_Reg.csv', recentrage=False)\n",
    "abalone.train(maxIter = 500, epsilon = 1e-10, graphe = True)"
   ]
  },
  {
   "cell_type": "code",
   "execution_count": 64,
   "metadata": {
    "collapsed": false
   },
   "outputs": [
    {
     "data": {
      "text/plain": [
       "array([  4.82738464e-17,   3.63910206e-17,   4.48550793e-17, ...,\n",
       "         7.48117317e-17,   6.17781943e-17,   1.01735829e-16])"
      ]
     },
     "execution_count": 64,
     "metadata": {},
     "output_type": "execute_result"
    }
   ],
   "source": [
    "abalone.pred_labels()\n",
    "abalone.labels_predits"
   ]
  },
  {
   "cell_type": "code",
   "execution_count": 65,
   "metadata": {
    "collapsed": false
   },
   "outputs": [
    {
     "name": "stdout",
     "output_type": "stream",
     "text": [
      "Coefficients: \n",
      " [  0.3884832   -0.82639908  11.96403178  11.20449196   9.07020864\n",
      " -20.10614364 -10.15510106   8.70110596]\n"
     ]
    }
   ],
   "source": [
    "abalone.linearRegression()"
   ]
  },
  {
   "cell_type": "code",
   "execution_count": 66,
   "metadata": {
    "collapsed": false
   },
   "outputs": [
    {
     "data": {
      "text/plain": [
       "0.53534457649388245"
      ]
     },
     "execution_count": 66,
     "metadata": {},
     "output_type": "execute_result"
    }
   ],
   "source": [
    "abalone.regr.score(abalone.x, abalone.trueLabel)"
   ]
  },
  {
   "cell_type": "code",
   "execution_count": 67,
   "metadata": {
    "collapsed": false
   },
   "outputs": [
    {
     "data": {
      "text/plain": [
       "array([  9.2423098 ,   7.81022316,  10.84388028, ...,  11.10439683,\n",
       "         9.51353803,  11.14402922])"
      ]
     },
     "execution_count": 67,
     "metadata": {},
     "output_type": "execute_result"
    }
   ],
   "source": [
    "abalone.regr.predict(abalone.x)"
   ]
  },
  {
   "cell_type": "code",
   "execution_count": null,
   "metadata": {
    "collapsed": true
   },
   "outputs": [],
   "source": []
  }
 ],
 "metadata": {
  "kernelspec": {
   "display_name": "Python 3",
   "language": "python",
   "name": "python3"
  },
  "language_info": {
   "codemirror_mode": {
    "name": "ipython",
    "version": 3
   },
   "file_extension": ".py",
   "mimetype": "text/x-python",
   "name": "python",
   "nbconvert_exporter": "python",
   "pygments_lexer": "ipython3",
   "version": "3.5.1"
  }
 },
 "nbformat": 4,
 "nbformat_minor": 0
}
