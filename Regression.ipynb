{
 "cells": [
  {
   "cell_type": "markdown",
   "metadata": {},
   "source": [
    "# Regression"
   ]
  },
  {
   "cell_type": "code",
   "execution_count": 1,
   "metadata": {
    "collapsed": false
   },
   "outputs": [
    {
     "name": "stderr",
     "output_type": "stream",
     "text": [
      "C:\\Users\\srotc_000\\Anaconda3\\lib\\site-packages\\matplotlib\\__init__.py:1350: UserWarning:  This call to matplotlib.use() has no effect\n",
      "because the backend has already been chosen;\n",
      "matplotlib.use() must be called *before* pylab, matplotlib.pyplot,\n",
      "or matplotlib.backends is imported for the first time.\n",
      "\n",
      "  warnings.warn(_use_error_msg)\n"
     ]
    }
   ],
   "source": [
    "%matplotlib inline\n",
    "import matplotlib\n",
    "matplotlib.use('TkAgg')\n",
    "import matplotlib.pyplot as plt\n",
    "import pandas as pd\n",
    "import numpy as np"
   ]
  },
  {
   "cell_type": "code",
   "execution_count": 2,
   "metadata": {
    "collapsed": true
   },
   "outputs": [],
   "source": [
    "def normale(z, m, sigma):\n",
    "    \"\"\" Loi normale, z sachant m et sigma\"\"\"\n",
    "    return np.exp(-(z-m)**2/(2*sigma))/np.sqrt(2*np.pi*sigma)"
   ]
  },
  {
   "cell_type": "code",
   "execution_count": 19,
   "metadata": {
    "collapsed": false
   },
   "outputs": [],
   "source": [
    "class model:\n",
    "    \"\"\"Classe qui encapsule l'apprentissage\"\"\"\n",
    "    \n",
    "    def __init__(self, D, R):\n",
    "        \"\"\"Constructeur\"\"\"\n",
    "        \n",
    "        self.D = D #Nombre de variables explicatives\n",
    "        self.R = R #Nombre d'annotateurs\n",
    "     \n",
    "    \n",
    "    def chargeData(self, path, recentrage = True):\n",
    "        \"\"\"Fonction qui charge les données avec path le chemin du fichier CSV. \n",
    "        Par défault, on impose un recentrage des donnée\"\"\"\n",
    "        \n",
    "        data = pd.read_csv(path, delimiter = \";\")\n",
    "        self.trueLabel = np.array(data.ix[:,self.D])\n",
    "        self.y = np.array(data.ix[:,self.D+1:]) #labels des annotateurs\n",
    "        x = np.array(data.ix[:,0:self.D]) #variables explicatives\n",
    "        if (recentrage):\n",
    "            self.x = (x -np.mean(x,axis=0))/(np.std(x, axis=0))\n",
    "        else:\n",
    "            self.x = x\n",
    "        self.N = self.y.shape[0] #Nombre de lignes\n",
    "     \n",
    "    \n",
    "    def initw(self):\n",
    "        \"\"\"Initialisation de w\"\"\"\n",
    "\n",
    "        self.w = np.random.random_sample((self.D,))\n",
    "    \n",
    "    \n",
    "    def update_lambda(self):\n",
    "        \"\"\"Update du vecteur lambda (Rx1)\"\"\"\n",
    "        \n",
    "        lambd = []\n",
    "        for j in range(0,self.R):\n",
    "            tmp = 0\n",
    "            for i in range(0,self.N):\n",
    "                tmp += (self.y[i][j] - self.w.T.dot(self.x[i]))**2\n",
    "            tmp = tmp/self.N\n",
    "            lambd.append(1/tmp)\n",
    "        self.lambd = np.array(lambd)\n",
    "    \n",
    "    \n",
    "    def update_w(self):\n",
    "        \"\"\"Update du vecteur w (Nx1)\"\"\"\n",
    "        \n",
    "        w = 0\n",
    "        tmp = 0\n",
    "        for i in range(0,self.N):\n",
    "            tmp += self.x[i].dot(self.x[i].T)\n",
    "            tmp2 = 0\n",
    "            for j in range(0,self.R):\n",
    "                tmp2 += self.lambd[j]*self.y[i][j]\n",
    "            w += self.x[i]*tmp2/(np.sum(self.lambd))\n",
    "        self.w = self.w/tmp\n",
    "       \n",
    "    \n",
    "   \n",
    "    def logLikelihood(self):\n",
    "        \"\"\"Calcul de la log-vraissemblance.\"\"\"\n",
    "    \n",
    "        #On calcule directement la log-vraissemblance.\n",
    "        vraissemblance = 0\n",
    "        for i in range(0,self.N):\n",
    "            for j in range(0,self.R):\n",
    "                vraissemblance += normale(self.y[i][j],self.w.T.dot(self.x[i]),1/self.lambd[j])\n",
    "        return vraissemblance\n",
    "    \n",
    "\n",
    "   \n",
    "    def score(self, seuil = 1/2):\n",
    "        \"\"\"Quel est le score d'apprentissage de notre modèle ?\"\"\"\n",
    "        return np.mean(np.equal(self.trueLabel, np.array(self.w.dot(self.x.T))>seuil))\n",
    "        \n",
    "    def pred_labels(self):\n",
    "        #Label que j va donner à \n",
    "        self.labels_predits = np.random.normal(self.w.T.dot(self.x),1/self.lambd[j])\n",
    "        \n",
    "    \n",
    "    \n",
    "    def train(self, maxIter = 1000, minIter = 200, epsilon = 0.01, graphe=True):\n",
    "        \"\"\"Fonction qui lance l'entrainement du modèle.\n",
    "        La variable graphe sert à plotter la log-likelihood au fil des itérations.\n",
    "        La log-likelihood devrait être croissante.\"\"\"\n",
    "        \n",
    "        self.maxIter = maxIter\n",
    "        \n",
    "        self.initw()\n",
    "\n",
    "        compteur = 0\n",
    "        self.histLogLikelihood = []\n",
    "        #while (np.linalg.norm(diff_w) > 0.001) : # Limite de convergence à decider\n",
    "        while (compteur < maxIter):\n",
    "            self.update_lambda()\n",
    "            wOld = self.w\n",
    "            self.update_w()\n",
    "            wNew = self.w\n",
    "            self.histLogLikelihood.append(self.logLikelihood())\n",
    "            diffW = wOld - wNew\n",
    "            if (np.linalg.norm(diffW) < epsilon and compteur >= minIter):\n",
    "                print(\"SEUIL DE CONVERGENCE SUR W ATTEINT\")\n",
    "                print (\"ITERATION : \", compteur)\n",
    "                print(\"Vraissemblance : \", self.logLikelihood())\n",
    "                print(\"Norme de diff_w : \", np.linalg.norm(diffW))\n",
    "                print(\"Lambda : \", self.lambd)\n",
    "                break\n",
    "            \n",
    "            if (compteur % 100 == 0):\n",
    "                print (\"ITERATION : \", compteur)\n",
    "                print(\"Vraissemblance : \", self.logLikelihood())\n",
    "                print(\"Norme de diff_w : \", np.linalg.norm(diffW))\n",
    "                print(\"Lambda : \", self.lambd)\n",
    "            compteur = compteur + 1\n",
    "        \n",
    "        if graphe:\n",
    "            plt.plot(self.histLogLikelihood)\n",
    "            plt.title('Log-vraissemblance au fil des itérations')"
   ]
  },
  {
   "cell_type": "code",
   "execution_count": 20,
   "metadata": {
    "collapsed": false,
    "scrolled": false
   },
   "outputs": [
    {
     "name": "stdout",
     "output_type": "stream",
     "text": [
      "ITERATION :  0\n",
      "Vraissemblance :  359.277311409\n",
      "Norme de diff_w :  2.45959608816\n",
      "Lambda :  [ 0.02899734  0.01949083  0.02816311  0.0247997   0.02947899]\n",
      "ITERATION :  100\n",
      "Vraissemblance :  370.270609534\n",
      "Norme de diff_w :  0.0\n",
      "Lambda :  [ 0.03758113  0.02290392  0.03557637  0.03072701  0.03837343]\n",
      "SEUIL DE CONVERGENCE SUR W ATTEINT\n",
      "ITERATION :  200\n",
      "Vraissemblance :  370.270609534\n",
      "Norme de diff_w :  0.0\n",
      "Lambda :  [ 0.03758113  0.02290392  0.03557637  0.03072701  0.03837343]\n"
     ]
    },
    {
     "data": {
      "text/plain": [
       "0.0"
      ]
     },
     "execution_count": 20,
     "metadata": {},
     "output_type": "execute_result"
    },
    {
     "data": {
      "image/png": "[encoded data removed]",
      "text/plain": [
       "<matplotlib.figure.Figure at 0x1a89eaa4668>"
      ]
     },
     "metadata": {},
     "output_type": "display_data"
    }
   ],
   "source": [
    "wine = model(11, 5)\n",
    "wine.chargeData('Datasets/Wine/redwine_reg.csv')\n",
    "wine.train(maxIter = 500, epsilon = 0.01, graphe = True)\n",
    "wine.score()"
   ]
  },
  {
   "cell_type": "code",
   "execution_count": 21,
   "metadata": {
    "collapsed": false
   },
   "outputs": [
    {
     "data": {
      "text/plain": [
       "array([ 0.,  0.,  0.,  0.,  0.,  0.,  0.,  0.,  0.,  0.,  0.])"
      ]
     },
     "execution_count": 21,
     "metadata": {},
     "output_type": "execute_result"
    }
   ],
   "source": [
    "wine.w"
   ]
  },
  {
   "cell_type": "code",
   "execution_count": null,
   "metadata": {
    "collapsed": true
   },
   "outputs": [],
   "source": []
  }
 ],
 "metadata": {
  "kernelspec": {
   "display_name": "Python 3",
   "language": "python",
   "name": "python3"
  },
  "language_info": {
   "codemirror_mode": {
    "name": "ipython",
    "version": 3
   },
   "file_extension": ".py",
   "mimetype": "text/x-python",
   "name": "python",
   "nbconvert_exporter": "python",
   "pygments_lexer": "ipython3",
   "version": "3.5.1"
  }
 },
 "nbformat": 4,
 "nbformat_minor": 0
}
