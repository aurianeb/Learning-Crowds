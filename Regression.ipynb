{
 "cells": [
  {
   "cell_type": "markdown",
   "metadata": {},
   "source": [
    "# Regression"
   ]
  },
  {
   "cell_type": "code",
   "execution_count": 1,
   "metadata": {
    "collapsed": false
   },
   "outputs": [
    {
     "name": "stderr",
     "output_type": "stream",
     "text": [
      "C:\\Users\\srotc_000\\Anaconda3\\lib\\site-packages\\matplotlib\\__init__.py:1350: UserWarning:  This call to matplotlib.use() has no effect\n",
      "because the backend has already been chosen;\n",
      "matplotlib.use() must be called *before* pylab, matplotlib.pyplot,\n",
      "or matplotlib.backends is imported for the first time.\n",
      "\n",
      "  warnings.warn(_use_error_msg)\n"
     ]
    }
   ],
   "source": [
    "%matplotlib inline\n",
    "import matplotlib\n",
    "matplotlib.use('TkAgg')\n",
    "import matplotlib.pyplot as plt\n",
    "import pandas as pd\n",
    "import numpy as np\n",
    "from sklearn import linear_model"
   ]
  },
  {
   "cell_type": "code",
   "execution_count": 2,
   "metadata": {
    "collapsed": true
   },
   "outputs": [],
   "source": [
    "def normale(z, m, sigma):\n",
    "    \"\"\" Loi normale, z sachant m et sigma\"\"\"\n",
    "    return np.exp(-(z-m)**2/(2*sigma))/np.sqrt(2*np.pi*sigma)"
   ]
  },
  {
   "cell_type": "code",
   "execution_count": 140,
   "metadata": {
    "collapsed": false
   },
   "outputs": [],
   "source": [
    "class Regression:\n",
    "    \"\"\"Classe qui encapsule l'apprentissage\"\"\"\n",
    "    \n",
    "    def __init__(self, D, R):\n",
    "        \"\"\"Constructeur\"\"\"\n",
    "        \n",
    "        self.D = D #Nombre de variables explicatives\n",
    "        self.R = R #Nombre d'annotateurs\n",
    "     \n",
    "    \n",
    "    def chargeData(self, path, recentrage = True):\n",
    "        \"\"\"Fonction qui charge les données avec path le chemin du fichier CSV. \n",
    "        Par défault, on impose un recentrage des donnée\"\"\"\n",
    "        \n",
    "        data = pd.read_csv(path, delimiter = \";\")\n",
    "        self.trueLabel = np.array(data.ix[:,self.D])\n",
    "        self.y = np.array(data.ix[:,self.D+1:]) #labels des annotateurs\n",
    "        x = np.array(data.ix[:,0:self.D]) #variables explicatives\n",
    "        x = np.insert(x,0,1,axis=1)\n",
    "        self.trueX = x\n",
    "        if (recentrage):\n",
    "            self.x = (x - np.mean(x,axis=0))/(np.std(x, axis=0))\n",
    "        else:\n",
    "            self.x = x\n",
    "        self.N = self.y.shape[0] #Nombre de lignes\n",
    "     \n",
    "    \n",
    "    def initw(self):\n",
    "        \"\"\"Initialisation de w\"\"\"\n",
    "\n",
    "        self.w = np.random.random_sample((self.D+1,))\n",
    "    \n",
    "    \n",
    "    def update_lambda(self):\n",
    "        \"\"\"Update du vecteur lambda (Rx1)\"\"\"\n",
    "        \n",
    "        lambd = []\n",
    "        for j in range(0,self.R):\n",
    "            tmp = 0\n",
    "            for i in range(0,self.N):\n",
    "                tmp += (self.y[i][j] - self.w.T.dot(self.x[i]))**2\n",
    "            lambd.append(self.N/tmp)\n",
    "        self.lambd = np.array(lambd)\n",
    "    \n",
    "    \n",
    "    def update_w(self):\n",
    "        \"\"\"Update du vecteur w (Nx1)\"\"\"\n",
    "        \n",
    "        w = 0\n",
    "        tmp = 0\n",
    "        for i in range(0,self.N):\n",
    "            tmp += self.x[i].dot(self.x[i].T)\n",
    "            tmp2 = 0\n",
    "            for j in range(0,self.R):\n",
    "                tmp2 += self.lambd[j]*self.y[i][j]\n",
    "            w += self.x[i]*tmp2/(np.sum(self.lambd))\n",
    "        self.w = w/tmp\n",
    "       \n",
    "    \n",
    "   \n",
    "    def logLikelihood(self):\n",
    "        \"\"\"Calcul de la log-vraissemblance.\"\"\"\n",
    "    \n",
    "        #On calcule directement la log-vraissemblance.\n",
    "        vraissemblance = 0\n",
    "        for i in range(0,self.N):\n",
    "            for j in range(0,self.R):\n",
    "                vraissemblance += np.log(normale(self.y[i][j],self.w.T.dot(self.x[i]),1/self.lambd[j]))\n",
    "        return vraissemblance\n",
    "    \n",
    "\n",
    "   \n",
    "    def erreur(self):\n",
    "        \"\"\"Quelle est l'erreur quadratique de notre modèle ?\"\"\"\n",
    "        return np.mean((self.labels_predits - self.trueLabel)**2)\n",
    "        \n",
    "        \n",
    "    def pred_labels(self):\n",
    "        #Label prédit par le modèle\n",
    "        #self.labels_predits = np.random.normal(self.w.T.dot(self.x),1/self.lambd[j])\n",
    "        self.labels_predits = self.x.dot(self.w)\n",
    "        \n",
    "    \n",
    "    def train(self, maxIter = 1000, minIter = 20, epsilon = 0.01, graphe=True):\n",
    "        \"\"\"Fonction qui lance l'entrainement du modèle.\n",
    "        La variable graphe sert à plotter la log-likelihood au fil des itérations.\n",
    "        La log-likelihood devrait être croissante.\"\"\"\n",
    "        \n",
    "        self.maxIter = maxIter\n",
    "        \n",
    "        self.initw()\n",
    "\n",
    "        compteur = 0\n",
    "        self.histLogLikelihood = []\n",
    "\n",
    "        while (compteur < maxIter):\n",
    "            self.update_lambda()\n",
    "            wOld = self.w\n",
    "            self.update_w()\n",
    "            wNew = self.w\n",
    "            self.histLogLikelihood.append(self.logLikelihood())\n",
    "            diffW = wOld - wNew\n",
    "            if (np.linalg.norm(diffW) < epsilon):\n",
    "                print(\"SEUIL DE CONVERGENCE SUR W ATTEINT\")\n",
    "                print (\"ITERATION : \", compteur)\n",
    "                print(\"Vraissemblance : \", self.logLikelihood())\n",
    "                print(\"Norme de diff_w : \", np.linalg.norm(diffW))\n",
    "                print(\"Lambda : \", self.lambd)\n",
    "                break\n",
    "            \n",
    "            if (compteur % 1 == 0):\n",
    "                print (\"ITERATION : \", compteur)\n",
    "                print(\"Vraissemblance : \", self.logLikelihood())\n",
    "                print(\"Norme de diff_w : \", np.linalg.norm(diffW))\n",
    "                print(\"Lambda : \", self.lambd)\n",
    "                print(\"W : \", self.w)\n",
    "            compteur = compteur + 1\n",
    "        \n",
    "        if graphe:\n",
    "            plt.plot(self.histLogLikelihood)\n",
    "            plt.title('Log-vraissemblance au fil des itérations')\n",
    "       \n",
    "    \n",
    "    def linearRegression(self):\n",
    "        \"\"\"On entraine avec sklearn un modèle de régression linéaire sur les données.\"\"\"\n",
    "        \n",
    "        self.regr = linear_model.LinearRegression()\n",
    "        self.regr.fit(self.x, self.trueLabel)\n",
    "        print('Coefficients: \\n', self.regr.coef_)\n",
    "        print('Constante: \\n', self.regr.intercept_)\n",
    "        print('Erreur quadratique: \\n', np.mean((self.regr.predict(self.x))-self.trueLabel)**2)\n"
   ]
  },
  {
   "cell_type": "code",
   "execution_count": 141,
   "metadata": {
    "collapsed": false,
    "scrolled": false
   },
   "outputs": [
    {
     "name": "stdout",
     "output_type": "stream",
     "text": [
      "ITERATION :  0\n",
      "Vraissemblance :  -40180.0467741\n",
      "Norme de diff_w :  3.19026768553\n",
      "Lambda :  [ 0.01144621  0.01513309  0.01571957]\n",
      "W :  [ 2.21818593  2.52763791  1.21027781  0.94567988  0.3262584   2.02947058\n",
      "  0.86450216  0.44051978  0.5927009 ]\n",
      "ITERATION :  1\n",
      "Vraissemblance :  -36808.4442088\n",
      "Norme de diff_w :  0.00136490215318\n",
      "Lambda :  [ 0.02640778  0.05937081  0.07051341]\n",
      "W :  [ 2.2174441   2.52843186  1.21004625  0.94545602  0.3261995   2.02878153\n",
      "  0.8643063   0.44035916  0.59251079]\n",
      "ITERATION :  2\n",
      "Vraissemblance :  -36808.4437327\n",
      "Norme de diff_w :  2.94983287382e-07\n",
      "Lambda :  [ 0.02640449  0.059355    0.07049077]\n",
      "W :  [ 2.21744424  2.52843166  1.21004629  0.94545606  0.32619951  2.02878166\n",
      "  0.86430634  0.44035919  0.59251082]\n",
      "ITERATION :  3\n",
      "Vraissemblance :  -36808.4437327\n",
      "Norme de diff_w :  5.48767325564e-11\n",
      "Lambda :  [ 0.0264045   0.059355    0.07049077]\n",
      "W :  [ 2.21744424  2.52843166  1.21004629  0.94545606  0.32619951  2.02878166\n",
      "  0.86430634  0.44035919  0.59251082]\n",
      "SEUIL DE CONVERGENCE SUR W ATTEINT\n",
      "ITERATION :  4\n",
      "Vraissemblance :  -36808.4437327\n",
      "Norme de diff_w :  1.00903638224e-14\n",
      "Lambda :  [ 0.0264045   0.059355    0.07049077]\n"
     ]
    },
    {
     "data": {
      "image/png": "[encoded data removed]",
      "text/plain": [
       "<matplotlib.figure.Figure at 0x1a056ccc5c0>"
      ]
     },
     "metadata": {},
     "output_type": "display_data"
    }
   ],
   "source": [
    "abalone = Regression(8, 3)\n",
    "abalone.chargeData('Datasets/Abalone/Abalone_Reg.csv', recentrage = False)\n",
    "abalone.train(maxIter = 500, epsilon = 1e-12, graphe = True)"
   ]
  },
  {
   "cell_type": "code",
   "execution_count": 148,
   "metadata": {
    "collapsed": false
   },
   "outputs": [
    {
     "data": {
      "text/plain": [
       "(array([  9.5711425 ,   8.58404951,   7.61024678, ...,  11.66543469,\n",
       "          8.9793961 ,  13.95114826]),\n",
       " array([ 2.21744424,  2.52843166,  1.21004629,  0.94545606,  0.32619951,\n",
       "         2.02878166,  0.86430634,  0.44035919,  0.59251082]),\n",
       " 13.234157714096954)"
      ]
     },
     "execution_count": 148,
     "metadata": {},
     "output_type": "execute_result"
    }
   ],
   "source": [
    "abalone.pred_labels()\n",
    "abalone.labels_predits, abalone.w, abalone.erreur()"
   ]
  },
  {
   "cell_type": "code",
   "execution_count": 143,
   "metadata": {
    "collapsed": false
   },
   "outputs": [
    {
     "name": "stdout",
     "output_type": "stream",
     "text": [
      "Coefficients: \n",
      " [  0.           0.3884832   -0.82639908  11.96403178  11.20449196\n",
      "   9.07020864 -20.10614364 -10.15510106   8.70110596]\n",
      "Constante: \n",
      " 2.98229797319\n",
      "Erreur quadratique: \n",
      " 3.37519576953e-32\n"
     ]
    }
   ],
   "source": [
    "abalone.linearRegression()"
   ]
  },
  {
   "cell_type": "code",
   "execution_count": 131,
   "metadata": {
    "collapsed": false
   },
   "outputs": [
    {
     "data": {
      "text/plain": [
       "0.53534457649388245"
      ]
     },
     "execution_count": 131,
     "metadata": {},
     "output_type": "execute_result"
    }
   ],
   "source": [
    "abalone.regr.score(abalone.x, abalone.trueLabel)"
   ]
  },
  {
   "cell_type": "code",
   "execution_count": 144,
   "metadata": {
    "collapsed": false
   },
   "outputs": [
    {
     "data": {
      "text/plain": [
       "array([  9.2423098 ,   7.81022316,  10.84388028, ...,  11.10439683,\n",
       "         9.51353803,  11.14402922])"
      ]
     },
     "execution_count": 144,
     "metadata": {},
     "output_type": "execute_result"
    }
   ],
   "source": [
    "abalone.regr.predict(abalone.x)"
   ]
  },
  {
   "cell_type": "code",
   "execution_count": 126,
   "metadata": {
    "collapsed": false
   },
   "outputs": [
    {
     "data": {
      "text/plain": [
       "(array([ 14.]), array([ 14.14213562]))"
      ]
     },
     "execution_count": 126,
     "metadata": {},
     "output_type": "execute_result"
    }
   ],
   "source": [
    "m = np.mean(abalone.trueX, axis=0)\n",
    "mu = np.std(abalone.trueX, axis=0)\n",
    "m,mu"
   ]
  },
  {
   "cell_type": "code",
   "execution_count": 118,
   "metadata": {
    "collapsed": false
   },
   "outputs": [
    {
     "data": {
      "text/plain": [
       "3.0"
      ]
     },
     "execution_count": 118,
     "metadata": {},
     "output_type": "execute_result"
    }
   ],
   "source": [
    "42/14"
   ]
  },
  {
   "cell_type": "code",
   "execution_count": 119,
   "metadata": {
    "collapsed": false
   },
   "outputs": [
    {
     "data": {
      "text/plain": [
       "array([ 41.57787873])"
      ]
     },
     "execution_count": 119,
     "metadata": {},
     "output_type": "execute_result"
    }
   ],
   "source": [
    "m/mu*42"
   ]
  },
  {
   "cell_type": "code",
   "execution_count": 120,
   "metadata": {
    "collapsed": false
   },
   "outputs": [
    {
     "data": {
      "text/plain": [
       "array([-11.87939392])"
      ]
     },
     "execution_count": 120,
     "metadata": {},
     "output_type": "execute_result"
    }
   ],
   "source": [
    "42/mu*10-m/mu*42"
   ]
  },
  {
   "cell_type": "code",
   "execution_count": 127,
   "metadata": {
    "collapsed": false
   },
   "outputs": [
    {
     "data": {
      "text/plain": [
       "array([-5351.69696197])"
      ]
     },
     "execution_count": 127,
     "metadata": {},
     "output_type": "execute_result"
    }
   ],
   "source": [
    "42*(-10*mu+m)"
   ]
  },
  {
   "cell_type": "code",
   "execution_count": null,
   "metadata": {
    "collapsed": true
   },
   "outputs": [],
   "source": []
  }
 ],
 "metadata": {
  "kernelspec": {
   "display_name": "Python 3",
   "language": "python",
   "name": "python3"
  },
  "language_info": {
   "codemirror_mode": {
    "name": "ipython",
    "version": 3
   },
   "file_extension": ".py",
   "mimetype": "text/x-python",
   "name": "python",
   "nbconvert_exporter": "python",
   "pygments_lexer": "ipython3",
   "version": "3.5.1"
  }
 },
 "nbformat": 4,
 "nbformat_minor": 0
}
