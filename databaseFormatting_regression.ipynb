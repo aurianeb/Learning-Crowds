{
 "cells": [
  {
   "cell_type": "markdown",
   "metadata": {},
   "source": [
    "# Le but de script est de simuler sur les bases de données des annotateurs.\n",
    "\n",
    "### ATTTENTION \n",
    "Il faut une fois ce script lancé, il faut enlever à la main la première colonne dans le fichier csv crée : celle de la numérotation que crée panda."
   ]
  },
  {
   "cell_type": "code",
   "execution_count": 1,
   "metadata": {
    "collapsed": false
   },
   "outputs": [],
   "source": [
    "import pandas as pd\n",
    "import numpy as np"
   ]
  },
  {
   "cell_type": "code",
   "execution_count": 2,
   "metadata": {
    "collapsed": true
   },
   "outputs": [],
   "source": [
    "def normale(z, m, sigma):\n",
    "    \"\"\" Loi normale, z sachant m et sigma\"\"\"\n",
    "    return np.exp(-(z-m)**2/(2*sigma))/np.sqrt(2*np.pi*sigma)"
   ]
  },
  {
   "cell_type": "code",
   "execution_count": 61,
   "metadata": {
    "collapsed": false
   },
   "outputs": [
    {
     "name": "stdout",
     "output_type": "stream",
     "text": [
      "La colonne de l'annotateur  1  a été crée.\n",
      "La colonne de l'annotateur  2  a été crée.\n",
      "La colonne de l'annotateur  3  a été crée.\n",
      "La colonne de l'annotateur  4  a été crée.\n",
      "La colonne de l'annotateur  5  a été crée.\n",
      "Les colonnes d'annotateurs sont crees. On débute la simulation des annotations.\n"
     ]
    },
    {
     "name": "stderr",
     "output_type": "stream",
     "text": [
      "/Users/aurianeblarre/miniconda3/lib/python3.4/site-packages/ipykernel/__main__.py:29: SettingWithCopyWarning: \n",
      "A value is trying to be set on a copy of a slice from a DataFrame\n",
      "\n",
      "See the caveats in the documentation: http://pandas.pydata.org/pandas-docs/stable/indexing.html#indexing-view-versus-copy\n"
     ]
    }
   ],
   "source": [
    "wine = pd.read_csv('Datasets/Wine/winequality-red.csv', delimiter = \";\")\n",
    "\n",
    "N = wine.shape[0] #Nombre d'échantillon\n",
    "d = wine.shape[1]-1 #Nombre de variables explicatives\n",
    "R = 5 #Nombre d'annotateurs\n",
    "\n",
    "#x = wine.drop('trueLabel',axis=1)\n",
    "#y = wine[[d]]\n",
    "\n",
    "\n",
    "#Paramètres des annotateurs et des descripteurs\n",
    "#w = np.random.rand(1,d)\n",
    "lambd = np.random.rand(R)\n",
    "\n",
    "\n",
    "#Création des colonnes d'annotateurs\n",
    "for i in range(1,R+1):\n",
    "    nom = \"label\"+str(i)\n",
    "    wine[nom] = np.zeros(N)\n",
    "    print(\"La colonne de l'annotateur \", i, \" a été crée.\")\n",
    "    \n",
    "print(\"Les colonnes d'annotateurs sont crees. On débute la simulation des annotations.\")\n",
    "\n",
    "\n",
    "#Simulation des annotations en fonction des paramètres des annotateurs\n",
    "for i, elmt in enumerate(wine['trueLabel']):\n",
    "    for a in range(1, R+1):\n",
    "        nom = \"label\"+str(a)\n",
    "        wine[nom][i] = np.random.normal(5, 1/lambd[a-1])\n",
    "        #wine[nom][i] = normale(wine['trueLabel'][i],np.array(w).dot(np.array(x.ix[i].T)), 1/lambd[a-1])\n",
    "\n",
    "\n",
    "#Ecriture dans un fichier séparé\n",
    "wine.to_csv('Datasets/Wine/redWine_reg.csv', sep=';', encoding='utf-8')"
   ]
  },
  {
   "cell_type": "code",
   "execution_count": 62,
   "metadata": {
    "collapsed": false
   },
   "outputs": [
    {
     "name": "stdout",
     "output_type": "stream",
     "text": [
      "[ 0.79469086  0.23980067  0.6181604   0.38424655  0.82722564]\n"
     ]
    }
   ],
   "source": [
    "print(lambd)"
   ]
  },
  {
   "cell_type": "code",
   "execution_count": null,
   "metadata": {
    "collapsed": true
   },
   "outputs": [],
   "source": []
  }
 ],
 "metadata": {
  "kernelspec": {
   "display_name": "Python 3",
   "language": "python",
   "name": "python3"
  },
  "language_info": {
   "codemirror_mode": {
    "name": "ipython",
    "version": 3
   },
   "file_extension": ".py",
   "mimetype": "text/x-python",
   "name": "python",
   "nbconvert_exporter": "python",
   "pygments_lexer": "ipython3",
   "version": "3.4.4"
  }
 },
 "nbformat": 4,
 "nbformat_minor": 0
}
