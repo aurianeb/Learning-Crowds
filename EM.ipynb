{
 "cells": [
  {
   "cell_type": "markdown",
   "metadata": {},
   "source": [
    "# Algorithme EM"
   ]
  },
  {
   "cell_type": "code",
   "execution_count": 1,
   "metadata": {
    "collapsed": false
   },
   "outputs": [
    {
     "name": "stderr",
     "output_type": "stream",
     "text": [
      "C:\\Users\\srotc_000\\Anaconda3\\lib\\site-packages\\matplotlib\\__init__.py:1350: UserWarning:  This call to matplotlib.use() has no effect\n",
      "because the backend has already been chosen;\n",
      "matplotlib.use() must be called *before* pylab, matplotlib.pyplot,\n",
      "or matplotlib.backends is imported for the first time.\n",
      "\n",
      "  warnings.warn(_use_error_msg)\n"
     ]
    }
   ],
   "source": [
    "%matplotlib inline\n",
    "import matplotlib\n",
    "matplotlib.use('TkAgg')\n",
    "import matplotlib.pyplot as plt\n",
    "import pandas as pd\n",
    "import numpy as np"
   ]
  },
  {
   "cell_type": "code",
   "execution_count": 110,
   "metadata": {
    "collapsed": false
   },
   "outputs": [],
   "source": [
    "wine = pd.read_csv('Datasets/Debug.csv', delimiter = \";\")"
   ]
  },
  {
   "cell_type": "code",
   "execution_count": 120,
   "metadata": {
    "collapsed": false
   },
   "outputs": [],
   "source": [
    "d = 11  #descripteurs\n",
    "N =  wine.shape[0] #produits à tester\n",
    "R = 5 #experts\n",
    "\n",
    "y = np.array(wine.ix[:,d+2:]) #labels des annotateurs\n",
    "x = np.array(wine.ix[:,0:d]) #variables explicatives\n",
    "w0 = np.random.rand(1,d)"
   ]
  },
  {
   "cell_type": "markdown",
   "metadata": {},
   "source": [
    "## Initialisation"
   ]
  },
  {
   "cell_type": "code",
   "execution_count": 121,
   "metadata": {
    "collapsed": false,
    "scrolled": true
   },
   "outputs": [],
   "source": [
    "def init_mu(y):\n",
    "\tmu = []\n",
    "\tfor i in range(0,N):\n",
    "\t\tmu.append(np.sum(y[i])/R)\n",
    "\treturn mu\n",
    "\n",
    "mu0 = init_mu(y)\n",
    "\n",
    "def sigma(z):\n",
    "    return 1/(1+np.exp(-z))"
   ]
  },
  {
   "cell_type": "markdown",
   "metadata": {},
   "source": [
    "## Etape E"
   ]
  },
  {
   "cell_type": "code",
   "execution_count": 122,
   "metadata": {
    "collapsed": false
   },
   "outputs": [],
   "source": [
    "#E-step\n",
    "\n",
    "def ai(alpha,y):\n",
    "    a = []\n",
    "    for i in range(0,N):\n",
    "        proda = 1\n",
    "        for j in range(0,R):\n",
    "            proda = proda*alpha[j]**(y[i][j])*(1-alpha[j])**(1-y[i][j])\n",
    "        a.append(proda)\n",
    "    return a\n",
    "\n",
    "def bi(beta,y):\n",
    "    b = []\n",
    "    for i in range(0,N):\n",
    "        prodb = 1\n",
    "        for j in range(0,R):\n",
    "            prodb = prodb*beta[j]**(1-y[i][j])*(1-beta[j])**(y[i][j])\n",
    "        b.append(prodb)\n",
    "    return b\n",
    "\n",
    "def pi(x,w):\n",
    "    p = []\n",
    "    for i in range(0,N):\n",
    "        p.append(sigma(x[i].dot(w.T)))\n",
    "    return p\n",
    "\n",
    "def mui(a,b,p):\n",
    "    mu = []\n",
    "    for i in range(0,N):\n",
    "        mu.append(a[i]*p[i]/(a[i]*p[i]+b[i]*(1-p[i])))\n",
    "    return mu\n",
    "\n",
    "def E_step(x,y,alpha,beta,w):\n",
    "    CE = 0 #Conditionnal excepectation\n",
    "    a = ai(alpha,y)\n",
    "    b = bi(beta,y)\n",
    "    p = pi(x,w)\n",
    "    mu = mui(a,b,p)\n",
    "    for i in range(0,N):\n",
    "        CE += mu[i]*np.log(p[i])*a[i]+(1-mu[i])*np.log(1-p[i])*b[i]\n",
    "    return mu\n"
   ]
  },
  {
   "cell_type": "markdown",
   "metadata": {},
   "source": [
    "## Maximum Log - Likelihood Estimator"
   ]
  },
  {
   "cell_type": "code",
   "execution_count": 123,
   "metadata": {
    "collapsed": true
   },
   "outputs": [],
   "source": [
    "def logLikelihood(w, y, alpha, beta):\n",
    "    a = ai(alpha, y)\n",
    "    b = bi(beta, y)\n",
    "    p = pi(x, w)\n",
    "    \n",
    "    #On calcule directement la log-vraissemblance.\n",
    "    vraissemblance = 0\n",
    "    for i in range(0,N):\n",
    "        vraissemblance = vraissemblance + np.log((a[i]*p[i])+b[i]*(1-p[i]))\n",
    "        \n",
    "    return vraissemblance"
   ]
  },
  {
   "cell_type": "markdown",
   "metadata": {},
   "source": [
    "## Étape M"
   ]
  },
  {
   "cell_type": "code",
   "execution_count": 124,
   "metadata": {
    "collapsed": false
   },
   "outputs": [],
   "source": [
    "#M-step\n",
    "\n",
    "def alpha_function(mu,y):\n",
    "\talpha = []\n",
    "\tfor j in range(0,R):\n",
    "\t\ttmp1 = 0\n",
    "\t\ttmp2 = 0\n",
    "\t\tfor i in range(0,N):\n",
    "\t\t\ttmp1 += mu[i]*y[i][j]\n",
    "\t\t\ttmp2 += mu[i]\n",
    "\t\talpha.append(tmp1/tmp2)\n",
    "\treturn alpha\n",
    "\n",
    "def beta_function(mu,y):\n",
    "\tbeta = []\n",
    "\tfor j in range(0,R):\n",
    "\t\ttmp1 = 0\n",
    "\t\ttmp2 = 0\n",
    "\t\tfor i in range(0,N):\n",
    "\t\t\ttmp1 += (1-mu[i])*(1-y[i][j])\n",
    "\t\t\ttmp2 += 1-mu[i]\n",
    "\t\tbeta.append(tmp1/tmp2)\n",
    "\treturn beta\n",
    "\n",
    "def updateW(w,x, eta, mu):\n",
    "    g = 0\n",
    "    for i in range(0,N):\n",
    "        g += (mu[i] - sigma(x[i].dot(w.T)))*x[i]\n",
    "    \n",
    "    H = np.zeros((d,d))\n",
    "    for i in range(0,N):\n",
    "        H -= sigma(x[i].dot(w.T))*(1-sigma(x[i].dot(w.T)))*((x[i].reshape(11,1))*(x[i].reshape(1,11)))\n",
    "    w = w - eta*np.linalg.inv(H).dot(g)\n",
    "    return w"
   ]
  },
  {
   "cell_type": "code",
   "execution_count": 125,
   "metadata": {
    "collapsed": false
   },
   "outputs": [
    {
     "data": {
      "text/plain": [
       "array([[ -5.75612410e+12,   1.35164398e+13,  -3.36551203e+13,\n",
       "          4.98942796e+12,   5.89299859e+13,  -2.74644506e+12,\n",
       "         -3.07481100e+12,   2.38470728e+14,  -4.39661631e+13,\n",
       "          7.92000067e+13,  -6.42045895e+12]])"
      ]
     },
     "execution_count": 125,
     "metadata": {},
     "output_type": "execute_result"
    }
   ],
   "source": [
    "updateW(w0,x,0.1,mu0)"
   ]
  },
  {
   "cell_type": "markdown",
   "metadata": {},
   "source": [
    "## Itérations"
   ]
  },
  {
   "cell_type": "code",
   "execution_count": 131,
   "metadata": {
    "collapsed": false,
    "scrolled": false
   },
   "outputs": [
    {
     "name": "stdout",
     "output_type": "stream",
     "text": [
      "ITERATION :  0\n",
      "Vraissemblance :  [-364.8077508]\n",
      "Norme de diff_w :  0.203736988181\n",
      "Alpha :  [array([ 0.7804878]), array([ 0.62601626]), array([ 0.69105691]), array([ 0.58536585]), array([ 0.18699187])]\n",
      "Beta :  [array([ 0.05048238]), array([ 0.28537197]), array([ 0.26491983]), array([ 0.57698059]), array([ 0.90220447])]\n",
      "ITERATION :  100\n",
      "Vraissemblance :  [-363.22091839]\n",
      "Norme de diff_w :  13.889383926\n",
      "Alpha :  [array([ 0.77901023]), array([ 0.62349891]), array([ 0.68897736]), array([ 0.58257488]), array([ 0.18151937])]\n",
      "Beta :  [array([ 0.]), array([ 0.]), array([ 0.]), array([ 0.]), array([ 0.])]\n",
      "ITERATION :  200\n",
      "Vraissemblance :  [-359.15905844]\n",
      "Norme de diff_w :  1.4802167216\n",
      "Alpha :  [array([ 0.77695079]), array([ 0.61999023]), array([ 0.68607889]), array([ 0.57868483]), array([ 0.17389181])]\n",
      "Beta :  [array([ 0.]), array([ 0.]), array([ 0.]), array([ 0.]), array([ 0.])]\n",
      "ITERATION :  300\n",
      "Vraissemblance :  [-358.44468312]\n",
      "Norme de diff_w :  1.11413738656\n",
      "Alpha :  [array([ 0.7768833]), array([ 0.61987525]), array([ 0.6859839]), array([ 0.57855734]), array([ 0.17364184])]\n",
      "Beta :  [array([ 0.]), array([ 0.]), array([ 0.]), array([ 0.]), array([ 0.])]\n",
      "ITERATION :  400\n",
      "Vraissemblance :  [-358.22775148]\n",
      "Norme de diff_w :  1.0638774651\n",
      "Alpha :  [array([ 0.7768676]), array([ 0.61984851]), array([ 0.68596181]), array([ 0.57852769]), array([ 0.17358371])]\n",
      "Beta :  [array([ 0.]), array([ 0.]), array([ 0.]), array([ 0.]), array([ 0.])]\n",
      "ITERATION :  500\n",
      "Vraissemblance :  [-358.15084976]\n",
      "Norme de diff_w :  1.02941043364\n",
      "Alpha :  [array([ 0.77686247]), array([ 0.61983976]), array([ 0.68595458]), array([ 0.57851799]), array([ 0.17356469])]\n",
      "Beta :  [array([ 0.]), array([ 0.]), array([ 0.]), array([ 0.]), array([ 0.])]\n",
      "ITERATION :  600\n",
      "Vraissemblance :  [-358.12236977]\n",
      "Norme de diff_w :  1.01154410812\n",
      "Alpha :  [array([ 0.77686062]), array([ 0.6198366]), array([ 0.68595198]), array([ 0.5785145]), array([ 0.17355783])]\n",
      "Beta :  [array([ 0.]), array([ 0.]), array([ 0.]), array([ 0.]), array([ 0.])]\n",
      "ITERATION :  700\n",
      "Vraissemblance :  [-358.11161999]\n",
      "Norme de diff_w :  1.00609701184\n",
      "Alpha :  [array([ 0.77685992]), array([ 0.61983543]), array([ 0.685951]), array([ 0.57851319]), array([ 0.17355527])]\n",
      "Beta :  [array([ 0.]), array([ 0.]), array([ 0.]), array([ 0.]), array([ 0.])]\n",
      "ITERATION :  800\n",
      "Vraissemblance :  [-358.10755136]\n",
      "Norme de diff_w :  1.02310537835\n",
      "Alpha :  [array([ 0.77685966]), array([ 0.61983498]), array([ 0.68595064]), array([ 0.5785127]), array([ 0.17355431])]\n",
      "Beta :  [array([ 0.]), array([ 0.]), array([ 0.]), array([ 0.]), array([ 0.])]\n",
      "ITERATION :  900\n",
      "Vraissemblance :  [-358.10600277]\n",
      "Norme de diff_w :  1.0074180656\n",
      "Alpha :  [array([ 0.77685956]), array([ 0.61983481]), array([ 0.6859505]), array([ 0.57851251]), array([ 0.17355394])]\n",
      "Beta :  [array([ 0.]), array([ 0.]), array([ 0.]), array([ 0.]), array([ 0.])]\n"
     ]
    }
   ],
   "source": [
    "mu = init_mu(y)\n",
    "alpha = alpha_function(mu,y)\n",
    "beta = beta_function(mu,y)\n",
    "diff_w = 10\n",
    "w = w0\n",
    "\n",
    "compteur = 0\n",
    "\n",
    "#while (np.linalg.norm(diff_w) > 0.001) : # Limite de convergence à decider\n",
    "while (compteur < 1000):\n",
    "    mu = E_step(x,y,alpha,beta,w)\n",
    "    alpha = alpha_function(mu,y)\n",
    "    beta = beta_function(mu,y)\n",
    "    w_bis = updateW(w,x,0.01,mu)\n",
    "    diff_w = w - w_bis\n",
    "    w = w_bis\n",
    "    if (compteur % 100 == 0):\n",
    "        print (\"ITERATION : \", compteur)\n",
    "        print(\"Vraissemblance : \", logLikelihood(w, y, alpha, beta))\n",
    "        print(\"Norme de diff_w : \", np.linalg.norm(diff_w))\n",
    "        print(\"Alpha : \", alpha)\n",
    "        print(\"Beta : \", beta)\n",
    "    compteur = compteur + 1"
   ]
  }
 ],
 "metadata": {
  "kernelspec": {
   "display_name": "Python 3",
   "language": "python",
   "name": "python3"
  },
  "language_info": {
   "codemirror_mode": {
    "name": "ipython",
    "version": 3
   },
   "file_extension": ".py",
   "mimetype": "text/x-python",
   "name": "python",
   "nbconvert_exporter": "python",
   "pygments_lexer": "ipython3",
   "version": "3.5.1"
  }
 },
 "nbformat": 4,
 "nbformat_minor": 0
}
