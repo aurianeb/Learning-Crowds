{
 "cells": [
  {
   "cell_type": "markdown",
   "metadata": {},
   "source": [
    "# Algorithme EM"
   ]
  },
  {
   "cell_type": "code",
   "execution_count": 74,
   "metadata": {
    "collapsed": false
   },
   "outputs": [
    {
     "name": "stderr",
     "output_type": "stream",
     "text": [
      "c:\\users\\margot\\miniconda3\\lib\\site-packages\\matplotlib\\__init__.py:1350: UserWarning:  This call to matplotlib.use() has no effect\n",
      "because the backend has already been chosen;\n",
      "matplotlib.use() must be called *before* pylab, matplotlib.pyplot,\n",
      "or matplotlib.backends is imported for the first time.\n",
      "\n",
      "  warnings.warn(_use_error_msg)\n"
     ]
    }
   ],
   "source": [
    "%matplotlib inline\n",
    "import matplotlib\n",
    "matplotlib.use('TkAgg')\n",
    "import matplotlib.pyplot as plt\n",
    "import pandas as pd\n",
    "import numpy as np\n",
    "from sklearn.metrics import roc_curve, auc"
   ]
  },
  {
   "cell_type": "code",
   "execution_count": 75,
   "metadata": {
    "collapsed": true
   },
   "outputs": [],
   "source": [
    "def sigma(z):\n",
    "    return 1/(1+np.exp(-z))"
   ]
  },
  {
   "cell_type": "code",
   "execution_count": 93,
   "metadata": {
    "collapsed": false
   },
   "outputs": [],
   "source": [
    "class model:\n",
    "    \"\"\"Classe qui encapsule l'apprentissage\"\"\"\n",
    "    \n",
    "    def __init__(self, D, R):\n",
    "        \"\"\"Constructeur\"\"\"\n",
    "        \n",
    "        self.D = D #Nombre de variables explicatives\n",
    "        self.R = R #Nombre d'annotateurs\n",
    "     \n",
    "    \n",
    "    def chargeData(self, path, recentrage = True):\n",
    "        \"\"\"Fonction qui charge les données avec path le chemin du fichier CSV. \n",
    "        Par défault, on impose un recentrage des donnée\"\"\"\n",
    "        \n",
    "        data = pd.read_csv(path, delimiter = \";\")\n",
    "        self.trueLabel = np.array(data.ix[:,self.D])\n",
    "        self.y = np.array(data.ix[:,self.D+1:]) #labels des annotateurs\n",
    "        x = np.array(data.ix[:,0:self.D]) #variables explicatives\n",
    "        if (recentrage):\n",
    "            self.x = (x -np.mean(x,axis=0))/(np.std(x, axis=0))\n",
    "        else:\n",
    "            self.x = x\n",
    "        self.N = self.y.shape[0] #Nombre de lignes\n",
    "     \n",
    "    \n",
    "    def initMu(self):\n",
    "        \"\"\"Initialisation de mu\"\"\"\n",
    "        \n",
    "        self.mu = []\n",
    "        for i in range(0,self.N):\n",
    "            self.mu.append(np.sum(self.y[i])/self.R)\n",
    "    \n",
    "    \n",
    "    def ai(self):\n",
    "        \"\"\"Update du vecteur a (1xN)\"\"\"\n",
    "        \n",
    "        a = []\n",
    "        for i in range(0,self.N):\n",
    "            proda = 1\n",
    "            for j in range(0,self.R):\n",
    "                proda = proda*self.alpha[j]**(self.y[i][j])*(1-self.alpha[j])**(1-self.y[i][j])\n",
    "            a.append(proda)\n",
    "        self.a = a\n",
    "    \n",
    "    \n",
    "    def bi(self):\n",
    "        \"\"\"Update du vecteur b (1xN)\"\"\"\n",
    "        \n",
    "        b = []\n",
    "        for i in range(0,self.N):\n",
    "            prodb = 1\n",
    "            for j in range(0,self.R):\n",
    "                prodb = prodb*self.beta[j]**(1-self.y[i][j])*(1-self.beta[j])**(self.y[i][j])\n",
    "            b.append(prodb)\n",
    "        self.b = b\n",
    "       \n",
    "    \n",
    "    def pi(self):\n",
    "        \"\"\"Update du vecteur p (1xN)\"\"\"\n",
    "        \n",
    "        p = []\n",
    "        for i in range(0,self.N):\n",
    "            p.append(sigma(self.x[i].dot(self.w.T)))\n",
    "        self.p = p\n",
    "       \n",
    "    \n",
    "    def mui(self):\n",
    "        \"\"\"Update du vecteur mu (1xN). C'est l'étape E.\"\"\"\n",
    "        self.ai()\n",
    "        self.bi()\n",
    "        self.pi()\n",
    "        mu = []\n",
    "        for i in range(0,self.N):\n",
    "            mu.append(self.a[i]*self.p[i]/(self.a[i]*self.p[i]+self.b[i]*(1-self.p[i])))\n",
    "        self.mu = mu        \n",
    "      \n",
    "    \n",
    "    def logLikelihood(self):\n",
    "        \"\"\"Calcul de la log-vraissemblance.\"\"\"\n",
    "        \n",
    "        self.ai()\n",
    "        self.bi()\n",
    "        self.pi()\n",
    "    \n",
    "        #On calcule directement la log-vraissemblance.\n",
    "        vraissemblance = 0\n",
    "        for i in range(0,self.N):\n",
    "            vraissemblance = vraissemblance + np.log((self.a[i]*self.p[i])+self.b[i]*(1-self.p[i]))\n",
    "        return vraissemblance\n",
    "    \n",
    "    \n",
    "    def alphaUpdate(self):\n",
    "        \"\"\"Update du vecteur alpha sensitivity (1xR)\"\"\"\n",
    "        \n",
    "        alpha = []\n",
    "        for j in range(0,self.R):\n",
    "            tmp1 = 0\n",
    "            tmp2 = 0\n",
    "            for i in range(0,self.N):\n",
    "                tmp1 += self.mu[i]*self.y[i][j]\n",
    "                tmp2 += self.mu[i]\n",
    "            alpha.append(tmp1/tmp2)\n",
    "        self.alpha = alpha\n",
    "\n",
    "        \n",
    "    def betaUpdate(self):\n",
    "        \"\"\"Update du vecteur beta specificity (1xR)\"\"\"\n",
    "        \n",
    "        beta = []\n",
    "        for j in range(0,self.R):\n",
    "            tmp1 = 0\n",
    "            tmp2 = 0\n",
    "            for i in range(0,self.N):\n",
    "                tmp1 += (1-self.mu[i])*(1-self.y[i][j])\n",
    "                tmp2 += 1-self.mu[i]\n",
    "            beta.append(tmp1/tmp2)\n",
    "        self.beta = beta\n",
    "\n",
    "        \n",
    "    def wUpdate(self):\n",
    "        \"\"\"Update du vecteur poids w (1xR)\"\"\"\n",
    "        \n",
    "        g = 0\n",
    "        for i in range(0,self.N):\n",
    "            g += (self.mu[i] - sigma(self.x[i].dot(self.w.T)))*self.x[i]\n",
    "\n",
    "        H = np.zeros((self.D,self.D))\n",
    "        for i in range(0,self.N):\n",
    "            H -= sigma(self.x[i].dot(self.w.T))*(1-sigma(self.x[i].dot(self.w.T)))*((self.x[i].reshape(self.D,1))*(self.x[i].reshape(1,self.D)))\n",
    "        self.w = self.w - self.eta*np.linalg.inv(H).dot(g)\n",
    "    \n",
    "    \n",
    "    def score(self, seuil = 1/2):\n",
    "        \"\"\"Quel est le score d'apprentissage de notre modèle ?\"\"\"\n",
    "        return np.mean(np.equal(self.trueLabel, np.array(self.mu)>seuil))\n",
    "    \n",
    "    \n",
    "    def scoreMoy(self, seuil = 1/2):\n",
    "        \"\"\"Quel serait le score si on fesait naïvement la moyenne des avis des annotateurs ?\"\"\"\n",
    "        return np.mean(np.equal(self.trueLabel, np.mean(self.y, axis = 1)>seuil))\n",
    "\n",
    "    \n",
    "    def train(self, maxIter = 1000, eta = 0.01, epsilon = 0.01, graphe=True):\n",
    "        \"\"\"Fonction qui lance l'entrainement du modèle.\n",
    "        La variable graphe sert à plotter la log-likelihood au fil des itérations.\n",
    "        La log-likelihood devrait être croissante.\"\"\"\n",
    "        \n",
    "        self.maxIter = maxIter\n",
    "        self.eta = eta\n",
    "        \n",
    "        self.initMu()\n",
    "        self.alphaUpdate()\n",
    "        self.betaUpdate()\n",
    "        self.w = np.random.rand(1,self.D)\n",
    "\n",
    "        compteur = 0\n",
    "        self.histLogLikelihood = []\n",
    "        #while (np.linalg.norm(diff_w) > 0.001) : # Limite de convergence à decider\n",
    "        while (compteur < maxIter):\n",
    "            self.mui()\n",
    "            self.alphaUpdate()\n",
    "            self.betaUpdate()\n",
    "            wOld = self.w\n",
    "            self.wUpdate()\n",
    "            wNew = self.w\n",
    "            \n",
    "            self.histLogLikelihood.append(self.logLikelihood())\n",
    "            diffW = wOld - wNew\n",
    "            if ((np.linalg.norm(diffW))/self.N < epsilon) and compteur > 100 :\n",
    "                print(\"SEUIL DE CONVERGENCE SUR W ATTEINT\")\n",
    "                print (\"ITERATION : \", compteur)\n",
    "                print(\"Vraissemblance : \", self.logLikelihood())\n",
    "                print(\"Norme de diff_w : \", np.linalg.norm(diffW))\n",
    "                print(\"Alpha : \", self.alpha)\n",
    "                print(\"Beta : \", self.beta)\n",
    "                break\n",
    "            \n",
    "            if (compteur % 100 == 0):\n",
    "                print (\"ITERATION : \", compteur)\n",
    "                print(\"Vraissemblance : \", self.logLikelihood())\n",
    "                print(\"Norme de diff_w : \", np.linalg.norm(diffW))\n",
    "                print(\"Alpha : \", self.alpha)\n",
    "                print(\"Beta : \", self.beta)\n",
    "            compteur = compteur + 1\n",
    "        \n",
    "        if graphe:\n",
    "            plt.plot(self.histLogLikelihood)\n",
    "            plt.title('Log-vraissemblance au fil des itérations')\n",
    "    \n",
    "        \n",
    "    def roc(self) :\n",
    "        fpr, tpr, threshold = roc_curve(self.trueLabel, self.mu)\n",
    "        roc_auc = auc(fpr, tpr)\n",
    "        plt.plot(fpr, tpr, lw=1, label='ROC fold %d (area = %0.2f)'%(i, roc_auc))"
   ]
  },
  {
   "cell_type": "code",
   "execution_count": 94,
   "metadata": {
    "collapsed": false
   },
   "outputs": [
    {
     "name": "stdout",
     "output_type": "stream",
     "text": [
      "ITERATION :  0\n",
      "Vraissemblance :  [-1623.76194757]\n",
      "Norme de diff_w :  3.38331728796\n",
      "Alpha :  [array([ 0.78351593]), array([ 0.77579415]), array([ 0.612333]), array([ 0.57737958]), array([ 0.53596782])]\n",
      "Beta :  [array([ 0.92310543]), array([ 0.84199751]), array([ 0.63673812]), array([ 0.62065338]), array([ 0.59387736])]\n",
      "ITERATION :  100\n",
      "Vraissemblance :  [-1567.88803261]\n",
      "Norme de diff_w :  1.8575554152e-09\n",
      "Alpha :  [array([ 0.91291544]), array([ 0.86627189]), array([ 0.62889462]), array([ 0.58057111]), array([ 0.5342288])]\n",
      "Beta :  [array([ 0.93920068]), array([ 0.84299701]), array([ 0.62564925]), array([ 0.60608017]), array([ 0.58211114])]\n",
      "SEUIL DE CONVERGENCE SUR W ATTEINT\n",
      "ITERATION :  101\n",
      "Vraissemblance :  [-1567.88803261]\n",
      "Norme de diff_w :  1.48541695869e-09\n",
      "Alpha :  [array([ 0.91291544]), array([ 0.86627189]), array([ 0.62889462]), array([ 0.58057111]), array([ 0.5342288])]\n",
      "Beta :  [array([ 0.93920068]), array([ 0.84299701]), array([ 0.62564925]), array([ 0.60608017]), array([ 0.58211114])]\n"
     ]
    },
    {
     "data": {
      "image/png": "[encoded data removed]",
      "text/plain": [
       "<matplotlib.figure.Figure at 0x920ce48>"
      ]
     },
     "metadata": {},
     "output_type": "display_data"
    }
   ],
   "source": [
    "breast = model(10, 5)\n",
    "breast.chargeData('Datasets/BreastCancer/DB_wdbc.csv')\n",
    "breast.train(maxIter = 500, eta = 1, graphe = True)"
   ]
  },
  {
   "cell_type": "code",
   "execution_count": 63,
   "metadata": {
    "collapsed": false
   },
   "outputs": [
    {
     "name": "stdout",
     "output_type": "stream",
     "text": [
      "LE SCORE D'ENTRAINEMENT EST DE :  0.534261384169\n",
      "LE SCORE NAIF DE MOYENNE DES ANNOTATEURS EST DE :  0.887521968366\n"
     ]
    }
   ],
   "source": [
    "print(\"LE SCORE D'ENTRAINEMENT EST DE : \", breast.score())\n",
    "print(\"LE SCORE NAIF DE MOYENNE DES ANNOTATEURS EST DE : \", breast.scoreMoy())"
   ]
  },
  {
   "cell_type": "code",
   "execution_count": 95,
   "metadata": {
    "collapsed": false
   },
   "outputs": [
    {
     "data": {
      "image/png": "[encoded data removed]",
      "text/plain": [
       "<matplotlib.figure.Figure at 0x91e9358>"
      ]
     },
     "metadata": {},
     "output_type": "display_data"
    }
   ],
   "source": [
    "breast.roc()"
   ]
  },
  {
   "cell_type": "code",
   "execution_count": 10,
   "metadata": {
    "collapsed": false
   },
   "outputs": [
    {
     "name": "stdout",
     "output_type": "stream",
     "text": [
      "ITERATION :  0\n",
      "Vraissemblance :  [-1542.54762289]\n",
      "Norme de diff_w :  7.77250450711\n",
      "Alpha :  [array([ 0.91467452]), array([ 0.73997569]), array([ 0.55711638]), array([ 0.48666653]), array([ 0.1362019])]\n",
      "Beta :  [array([ 0.1301761]), array([ 0.32687162]), array([ 0.55625972]), array([ 0.60974957]), array([ 0.89213904])]\n",
      "ITERATION :  100\n",
      "Vraissemblance :  [-1521.84698671]\n",
      "Norme de diff_w :  0.0496395127976\n",
      "Alpha :  [array([ 0.93697183]), array([ 0.59810576]), array([ 0.40627355]), array([ 0.34569296]), array([ 0.1124086])]\n",
      "Beta :  [array([ 0.14489115]), array([ 0.21184669]), array([ 0.43138986]), array([ 0.49362934]), array([ 0.87180728])]\n"
     ]
    },
    {
     "data": {
      "image/png": "[encoded data removed]",
      "text/plain": [
       "<matplotlib.figure.Figure at 0x29b824584e0>"
      ]
     },
     "metadata": {},
     "output_type": "display_data"
    }
   ],
   "source": [
    "debug = model(11, 5)\n",
    "debug.chargeData('Datasets/Debug.csv')\n",
    "breast.train(maxIter = 200, eta = 1, graphe = True)"
   ]
  },
  {
   "cell_type": "markdown",
   "metadata": {},
   "source": [
    "# TOUT CE QUI SUIT EST DU BROUILLON POUR LE DEVELOPPEMENT"
   ]
  },
  {
   "cell_type": "code",
   "execution_count": 3,
   "metadata": {
    "collapsed": false
   },
   "outputs": [],
   "source": [
    "d = 10  #descripteurs\n",
    "N =  wine.shape[0] #produits à tester\n",
    "R = 5 #experts\n",
    "\n",
    "y = np.array(wine.ix[:,d+1:]) #labels des annotateurs\n",
    "x = np.array(wine.ix[:,0:d]) #variables explicatives\n",
    "w0 = np.random.rand(1,d)"
   ]
  },
  {
   "cell_type": "code",
   "execution_count": 4,
   "metadata": {
    "collapsed": false
   },
   "outputs": [],
   "source": [
    "x = (x -np.mean(x,axis=0))/(np.std(x, axis=0))"
   ]
  },
  {
   "cell_type": "markdown",
   "metadata": {},
   "source": [
    "## Initialisation"
   ]
  },
  {
   "cell_type": "code",
   "execution_count": 6,
   "metadata": {
    "collapsed": false,
    "scrolled": true
   },
   "outputs": [],
   "source": [
    "def init_mu(y):\n",
    "\tmu = []\n",
    "\tfor i in range(0,N):\n",
    "\t\tmu.append(np.sum(y[i])/R)\n",
    "\treturn mu\n",
    "\n",
    "\n",
    "\n",
    "mu0 = init_mu(y)"
   ]
  },
  {
   "cell_type": "markdown",
   "metadata": {},
   "source": [
    "## Etape E"
   ]
  },
  {
   "cell_type": "code",
   "execution_count": 7,
   "metadata": {
    "collapsed": false
   },
   "outputs": [],
   "source": [
    "#E-step\n",
    "\n",
    "def ai(alpha,y):\n",
    "    a = []\n",
    "    for i in range(0,N):\n",
    "        proda = 1\n",
    "        for j in range(0,R):\n",
    "            proda = proda*alpha[j]**(y[i][j])*(1-alpha[j])**(1-y[i][j])\n",
    "        a.append(proda)\n",
    "    return a\n",
    "\n",
    "def bi(beta,y):\n",
    "    b = []\n",
    "    for i in range(0,N):\n",
    "        prodb = 1\n",
    "        for j in range(0,R):\n",
    "            prodb = prodb*beta[j]**(1-y[i][j])*(1-beta[j])**(y[i][j])\n",
    "        b.append(prodb)\n",
    "    return b\n",
    "\n",
    "def pi(x,w):\n",
    "    p = []\n",
    "    for i in range(0,N):\n",
    "        p.append(sigma(x[i].dot(w.T)))\n",
    "    return p\n",
    "\n",
    "def mui(a,b,p):\n",
    "    mu = []\n",
    "    for i in range(0,N):\n",
    "        mu.append(a[i]*p[i]/(a[i]*p[i]+b[i]*(1-p[i])))\n",
    "    return mu\n",
    "\n",
    "def E_step(x,y,alpha,beta,w):\n",
    "    CE = 0 #Conditionnal excepectation\n",
    "    a = ai(alpha,y)\n",
    "    b = bi(beta,y)\n",
    "    p = pi(x,w)\n",
    "    mu = mui(a,b,p)\n",
    "    for i in range(0,N):\n",
    "        CE += mu[i]*np.log(p[i])*a[i]+(1-mu[i])*np.log(1-p[i])*b[i]\n",
    "    return mu"
   ]
  },
  {
   "cell_type": "markdown",
   "metadata": {},
   "source": [
    "## Maximum Log - Likelihood Estimator"
   ]
  },
  {
   "cell_type": "code",
   "execution_count": 8,
   "metadata": {
    "collapsed": true
   },
   "outputs": [],
   "source": [
    "def logLikelihood(w, y, alpha, beta):\n",
    "    a = ai(alpha, y)\n",
    "    b = bi(beta, y)\n",
    "    p = pi(x, w)\n",
    "    \n",
    "    #On calcule directement la log-vraissemblance.\n",
    "    vraissemblance = 0\n",
    "    for i in range(0,N):\n",
    "        vraissemblance = vraissemblance + np.log((a[i]*p[i])+b[i]*(1-p[i]))\n",
    "        \n",
    "    return vraissemblance"
   ]
  },
  {
   "cell_type": "markdown",
   "metadata": {},
   "source": [
    "## Étape M"
   ]
  },
  {
   "cell_type": "code",
   "execution_count": 9,
   "metadata": {
    "collapsed": false
   },
   "outputs": [],
   "source": [
    "#M-step\n",
    "\n",
    "def alpha_function(mu,y):\n",
    "\talpha = []\n",
    "\tfor j in range(0,R):\n",
    "\t\ttmp1 = 0\n",
    "\t\ttmp2 = 0\n",
    "\t\tfor i in range(0,N):\n",
    "\t\t\ttmp1 += mu[i]*y[i][j]\n",
    "\t\t\ttmp2 += mu[i]\n",
    "\t\talpha.append(tmp1/tmp2)\n",
    "\treturn alpha\n",
    "\n",
    "def beta_function(mu,y):\n",
    "    beta = []\n",
    "    for j in range(0,R):\n",
    "        tmp1 = 0\n",
    "        tmp2 = 0\n",
    "        for i in range(0,N):\n",
    "            tmp1 += (1-mu[i])*(1-y[i][j])\n",
    "            tmp2 += 1-mu[i]\n",
    "        beta.append(tmp1/tmp2)\n",
    "    return beta\n",
    "\n",
    "def updateW(w,x, eta, mu):\n",
    "    g = 0\n",
    "    for i in range(0,N):\n",
    "        g += (mu[i] - sigma(x[i].dot(w.T)))*x[i]\n",
    "    \n",
    "    H = np.zeros((d,d))\n",
    "    for i in range(0,N):\n",
    "        H -= sigma(x[i].dot(w.T))*(1-sigma(x[i].dot(w.T)))*((x[i].reshape(d,1))*(x[i].reshape(1,d)))\n",
    "    w = w - eta*np.linalg.inv(H).dot(g)\n",
    "    return w"
   ]
  },
  {
   "cell_type": "code",
   "execution_count": 10,
   "metadata": {
    "collapsed": false
   },
   "outputs": [
    {
     "data": {
      "text/plain": [
       "array([[ 1.0712328 ,  0.68627885,  0.17959314,  0.5280033 ,  0.18660934,\n",
       "         0.58655842,  0.8156623 ,  0.25828592,  0.80442013,  0.4460439 ]])"
      ]
     },
     "execution_count": 10,
     "metadata": {},
     "output_type": "execute_result"
    }
   ],
   "source": [
    "updateW(w0,x,0.01,mu0)"
   ]
  },
  {
   "cell_type": "code",
   "execution_count": 11,
   "metadata": {
    "collapsed": false
   },
   "outputs": [
    {
     "data": {
      "text/plain": [
       "array([ 0.00014573])"
      ]
     },
     "execution_count": 11,
     "metadata": {},
     "output_type": "execute_result"
    }
   ],
   "source": [
    "sigma(-x[0].dot(w0.T))"
   ]
  },
  {
   "cell_type": "markdown",
   "metadata": {},
   "source": [
    "## Itérations"
   ]
  },
  {
   "cell_type": "code",
   "execution_count": 12,
   "metadata": {
    "collapsed": false,
    "scrolled": false
   },
   "outputs": [
    {
     "name": "stdout",
     "output_type": "stream",
     "text": [
      "ITERATION :  0\n",
      "Vraissemblance :  [-1538.17487312]\n",
      "Norme de diff_w :  0.07734278506\n",
      "Alpha :  [array([ 0.91308806]), array([ 0.69729888]), array([ 0.5371915]), array([ 0.47191632]), array([ 0.13052233])]\n",
      "Beta :  [array([ 0.1256996]), array([ 0.28960321]), array([ 0.53286485]), array([ 0.59151964]), array([ 0.88576052])]\n",
      "ITERATION :  100\n",
      "Vraissemblance :  [-1532.95810899]\n",
      "Norme de diff_w :  0.0206209972087\n",
      "Alpha :  [array([ 0.90177942]), array([ 0.65077594]), array([ 0.48379182]), array([ 0.41920836]), array([ 0.11272821])]\n",
      "Beta :  [array([ 0.11687485]), array([ 0.255507]), array([ 0.49264057]), array([ 0.55188947]), array([ 0.87244708])]\n",
      "ITERATION :  200\n",
      "Vraissemblance :  [-1532.87417577]\n",
      "Norme de diff_w :  0.0205847124017\n",
      "Alpha :  [array([ 0.90226257]), array([ 0.64992699]), array([ 0.48382694]), array([ 0.41883142]), array([ 0.11258126])]\n",
      "Beta :  [array([ 0.11722134]), array([ 0.25492741]), array([ 0.49267771]), array([ 0.55162603]), array([ 0.87234608])]\n",
      "ITERATION :  300\n",
      "Vraissemblance :  [-1532.78762791]\n",
      "Norme de diff_w :  0.020547580642\n",
      "Alpha :  [array([ 0.9027646]), array([ 0.64906953]), array([ 0.48387293]), array([ 0.41843496]), array([ 0.11243259])]\n",
      "Beta :  [array([ 0.11757975]), array([ 0.25434843]), array([ 0.49272409]), array([ 0.55135058]), array([ 0.87224493])]\n",
      "ITERATION :  400\n",
      "Vraissemblance :  [-1532.69828944]\n",
      "Norme de diff_w :  0.0205037884305\n",
      "Alpha :  [array([ 0.90328656]), array([ 0.64820339]), array([ 0.48392861]), array([ 0.41801673]), array([ 0.11228293])]\n",
      "Beta :  [array([ 0.11795063]), array([ 0.25377031]), array([ 0.49277885]), array([ 0.55106168]), array([ 0.87214423])]\n",
      "ITERATION :  500\n",
      "Vraissemblance :  [-1532.60600102]\n",
      "Norme de diff_w :  0.0204460356781\n",
      "Alpha :  [array([ 0.90382956]), array([ 0.64732855]), array([ 0.48399287]), array([ 0.41757496]), array([ 0.11213339])]\n",
      "Beta :  [array([ 0.11833454]), array([ 0.25319346]), array([ 0.49284114]), array([ 0.55075824]), array([ 0.87204485])]\n",
      "ITERATION :  600\n",
      "Vraissemblance :  [-1532.51062653]\n",
      "Norme de diff_w :  0.0203655776739\n",
      "Alpha :  [array([ 0.9043947]), array([ 0.64644515]), array([ 0.48406456]), array([ 0.41710845]), array([ 0.1119855])]\n",
      "Beta :  [array([ 0.11873203]), array([ 0.25261835]), array([ 0.49291009]), array([ 0.55043965]), array([ 0.87194798])]\n",
      "ITERATION :  700\n",
      "Vraissemblance :  [-1532.41205929]\n",
      "Norme de diff_w :  0.0202523521154\n",
      "Alpha :  [array([ 0.90498304]), array([ 0.64555356]), array([ 0.48414254]), array([ 0.41661664]), array([ 0.11184126])]\n",
      "Beta :  [array([ 0.11914362]), array([ 0.25204559]), array([ 0.49298483]), array([ 0.55010575]), array([ 0.87185512])]\n",
      "ITERATION :  800\n",
      "Vraissemblance :  [-1532.31022731]\n",
      "Norme de diff_w :  0.0200951969528\n",
      "Alpha :  [array([ 0.90559557]), array([ 0.64465431]), array([ 0.48422556]), array([ 0.41609964]), array([ 0.11170307])]\n",
      "Beta :  [array([ 0.11956975]), array([ 0.25147588]), array([ 0.4930644]), array([ 0.54975685]), array([ 0.87176804])]\n",
      "ITERATION :  900\n",
      "Vraissemblance :  [-1532.20509693]\n",
      "Norme de diff_w :  0.0198821525504\n",
      "Alpha :  [array([ 0.90623314]), array([ 0.64374818]), array([ 0.48431226]), array([ 0.41555815]), array([ 0.1115737])]\n",
      "Beta :  [array([ 0.12001076]), array([ 0.25091001]), array([ 0.49314774]), array([ 0.54939373]), array([ 0.87168877])]\n"
     ]
    }
   ],
   "source": [
    "mu = init_mu(y)\n",
    "alpha = alpha_function(mu,y)\n",
    "beta = beta_function(mu,y)\n",
    "diff_w = 10\n",
    "w = w0\n",
    "\n",
    "compteur = 0\n",
    "\n",
    "#while (np.linalg.norm(diff_w) > 0.001) : # Limite de convergence à decider\n",
    "while (compteur < 1000):\n",
    "    mu = E_step(x,y,alpha,beta,w)\n",
    "    alpha = alpha_function(mu,y)\n",
    "    beta = beta_function(mu,y)\n",
    "    w_bis = updateW(w,x,0.01,mu)\n",
    "    diff_w = w - w_bis\n",
    "    w = w_bis\n",
    "    if (compteur % 100 == 0):\n",
    "        print (\"ITERATION : \", compteur)\n",
    "        print(\"Vraissemblance : \", logLikelihood(w, y, alpha, beta))\n",
    "        print(\"Norme de diff_w : \", np.linalg.norm(diff_w))\n",
    "        print(\"Alpha : \", alpha)\n",
    "        print(\"Beta : \", beta)\n",
    "    compteur = compteur + 1"
   ]
  }
 ],
 "metadata": {
  "kernelspec": {
   "display_name": "Python 3",
   "language": "python",
   "name": "python3"
  },
  "language_info": {
   "codemirror_mode": {
    "name": "ipython",
    "version": 3
   },
   "file_extension": ".py",
   "mimetype": "text/x-python",
   "name": "python",
   "nbconvert_exporter": "python",
   "pygments_lexer": "ipython3",
   "version": "3.4.4"
  }
 },
 "nbformat": 4,
 "nbformat_minor": 0
}
