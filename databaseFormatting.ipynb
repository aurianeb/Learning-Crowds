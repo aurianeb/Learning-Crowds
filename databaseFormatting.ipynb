{
 "cells": [
  {
   "cell_type": "markdown",
   "metadata": {},
   "source": [
    "# Le but de script est de simuler sur les bases de données des annotateurs.\n",
    "\n",
    "### ATTTENTION \n",
    "Il faut une fois ce script lancé, il faut enlever à la main la première colonne dans le fichier csv crée : celle de la numérotation que crée panda."
   ]
  },
  {
   "cell_type": "code",
   "execution_count": 3,
   "metadata": {
    "collapsed": false
   },
   "outputs": [],
   "source": [
    "import pandas as pd\n",
    "import numpy as np"
   ]
  },
  {
   "cell_type": "markdown",
   "metadata": {},
   "source": [
    "## Traitement Base de données : winequality-red.csv"
   ]
  },
  {
   "cell_type": "code",
   "execution_count": 15,
   "metadata": {
    "collapsed": false
   },
   "outputs": [
    {
     "name": "stderr",
     "output_type": "stream",
     "text": [
      "C:\\Users\\srotc_000\\Anaconda3\\lib\\site-packages\\ipykernel\\__main__.py:14: SettingWithCopyWarning: \n",
      "A value is trying to be set on a copy of a slice from a DataFrame\n",
      "\n",
      "See the caveats in the documentation: http://pandas.pydata.org/pandas-docs/stable/indexing.html#indexing-view-versus-copy\n",
      "C:\\Users\\srotc_000\\Anaconda3\\lib\\site-packages\\ipykernel\\__main__.py:29: SettingWithCopyWarning: \n",
      "A value is trying to be set on a copy of a slice from a DataFrame\n",
      "\n",
      "See the caveats in the documentation: http://pandas.pydata.org/pandas-docs/stable/indexing.html#indexing-view-versus-copy\n"
     ]
    },
    {
     "name": "stdout",
     "output_type": "stream",
     "text": [
      "La colonne de l'annotateur  1  a été crée.\n",
      "La colonne de l'annotateur  2  a été crée.\n",
      "La colonne de l'annotateur  3  a été crée.\n",
      "La colonne de l'annotateur  4  a été crée.\n",
      "La colonne de l'annotateur  5  a été crée.\n",
      "Les colonnes d'annotateurs sont crees. On débute la simulation des annotations.\n"
     ]
    },
    {
     "name": "stderr",
     "output_type": "stream",
     "text": [
      "C:\\Users\\srotc_000\\Anaconda3\\lib\\site-packages\\ipykernel\\__main__.py:31: SettingWithCopyWarning: \n",
      "A value is trying to be set on a copy of a slice from a DataFrame\n",
      "\n",
      "See the caveats in the documentation: http://pandas.pydata.org/pandas-docs/stable/indexing.html#indexing-view-versus-copy\n"
     ]
    }
   ],
   "source": [
    "wine = pd.read_csv('Datasets/Wine/winequality-red.csv', delimiter = \";\")\n",
    "\n",
    "N = wine.shape[0] #Nombre d'échantillon\n",
    "d = wine.shape[1]-1 #Nombre de variables explicatives\n",
    "R = 5 #Nombre d'annotateurs\n",
    "\n",
    "#Paramètres des annotateurs\n",
    "alpha = np.array([0.9, 0.7, 0.5, 0.4, 0.1])\n",
    "beta = alpha\n",
    "\n",
    "wine['trueLabel'] = np.zeros(N)\n",
    "for i, elmt in enumerate(wine['quality']):\n",
    "    if (elmt>=5):\n",
    "        wine['trueLabel'][i] = 1\n",
    "\n",
    "#Création des colonnes d'annotateurs\n",
    "for i in range(1,R+1):\n",
    "    nom = \"label\"+str(i)\n",
    "    wine[nom] = np.zeros(N)\n",
    "    print(\"La colonne de l'annotateur \", i, \" a été crée.\")\n",
    "    \n",
    "print(\"Les colonnes d'annotateurs sont crees. On débute la simulation des annotations.\")\n",
    "    \n",
    "#Simulation des annotations en fonction des paramètres des annotateurs\n",
    "for i, elmt in enumerate(wine['trueLabel']):\n",
    "    for a in range(1, R+1):\n",
    "        nom = \"label\"+str(a)\n",
    "        if (elmt == 1):\n",
    "            wine[nom][i] = np.random.binomial(1,alpha[a-1],1)\n",
    "        else:\n",
    "            wine[nom][i] = 1 - np.random.binomial(1,beta[a-1],1)\n",
    "            \n",
    "wine.drop('quality', axis=1)\n",
    "\n",
    "#Ecriture dans un fichier séparé\n",
    "wine.to_csv('Datasets/Wine/redWine.csv', sep=';', encoding='utf-8')"
   ]
  },
  {
   "cell_type": "markdown",
   "metadata": {},
   "source": [
    "## Traitement base de données : winequality-white.csv"
   ]
  },
  {
   "cell_type": "code",
   "execution_count": 16,
   "metadata": {
    "collapsed": false
   },
   "outputs": [
    {
     "name": "stderr",
     "output_type": "stream",
     "text": [
      "C:\\Users\\srotc_000\\Anaconda3\\lib\\site-packages\\ipykernel\\__main__.py:14: SettingWithCopyWarning: \n",
      "A value is trying to be set on a copy of a slice from a DataFrame\n",
      "\n",
      "See the caveats in the documentation: http://pandas.pydata.org/pandas-docs/stable/indexing.html#indexing-view-versus-copy\n",
      "C:\\Users\\srotc_000\\Anaconda3\\lib\\site-packages\\ipykernel\\__main__.py:29: SettingWithCopyWarning: \n",
      "A value is trying to be set on a copy of a slice from a DataFrame\n",
      "\n",
      "See the caveats in the documentation: http://pandas.pydata.org/pandas-docs/stable/indexing.html#indexing-view-versus-copy\n"
     ]
    },
    {
     "name": "stdout",
     "output_type": "stream",
     "text": [
      "La colonne de l'annotateur  1  a été crée.\n",
      "La colonne de l'annotateur  2  a été crée.\n",
      "La colonne de l'annotateur  3  a été crée.\n",
      "La colonne de l'annotateur  4  a été crée.\n",
      "La colonne de l'annotateur  5  a été crée.\n",
      "Les colonnes d'annotateurs sont crees. On débute la simulation des annotations.\n"
     ]
    },
    {
     "name": "stderr",
     "output_type": "stream",
     "text": [
      "C:\\Users\\srotc_000\\Anaconda3\\lib\\site-packages\\ipykernel\\__main__.py:31: SettingWithCopyWarning: \n",
      "A value is trying to be set on a copy of a slice from a DataFrame\n",
      "\n",
      "See the caveats in the documentation: http://pandas.pydata.org/pandas-docs/stable/indexing.html#indexing-view-versus-copy\n"
     ]
    }
   ],
   "source": [
    "wine = pd.read_csv('Datasets/Wine/winequality-white.csv', delimiter = \";\")\n",
    "\n",
    "N = wine.shape[0] #Nombre d'échantillon\n",
    "d = wine.shape[1]-1 #Nombre de variables explicatives\n",
    "R = 5 #Nombre d'annotateurs\n",
    "\n",
    "#Paramètres des annotateurs\n",
    "alpha = np.array([0.9, 0.8, 0.4, 0.2, 0.1])\n",
    "beta = np.array([0.85, 0.75, 0.45, 0.25, 0.1])\n",
    "\n",
    "wine['trueLabel'] = np.zeros(N)\n",
    "for i, elmt in enumerate(wine['quality']):\n",
    "    if (elmt>=5):\n",
    "        wine['trueLabel'][i] = 1\n",
    "\n",
    "#Création des colonnes d'annotateurs\n",
    "for i in range(1,R+1):\n",
    "    nom = \"label\"+str(i)\n",
    "    wine[nom] = np.zeros(N)\n",
    "    print(\"La colonne de l'annotateur \", i, \" a été crée.\")\n",
    "    \n",
    "print(\"Les colonnes d'annotateurs sont crees. On débute la simulation des annotations.\")\n",
    "    \n",
    "#Simulation des annotations en fonction des paramètres des annotateurs\n",
    "for i, elmt in enumerate(wine['trueLabel']):\n",
    "    for a in range(1, R+1):\n",
    "        nom = \"label\"+str(a)\n",
    "        if (elmt == 1):\n",
    "            wine[nom][i] = np.random.binomial(1,alpha[a-1],1)\n",
    "        else:\n",
    "            wine[nom][i] = 1 - np.random.binomial(1,beta[a-1],1)\n",
    "            \n",
    "\n",
    "#Ecriture dans un fichier séparé\n",
    "wine.to_csv('Datasets/Wine/whiteWine.csv', sep=';', encoding='utf-8')"
   ]
  },
  {
   "cell_type": "code",
   "execution_count": 4,
   "metadata": {
    "collapsed": false
   },
   "outputs": [
    {
     "name": "stderr",
     "output_type": "stream",
     "text": [
      "C:\\Users\\srotc_000\\Anaconda3\\lib\\site-packages\\ipykernel\\__main__.py:25: SettingWithCopyWarning: \n",
      "A value is trying to be set on a copy of a slice from a DataFrame\n",
      "\n",
      "See the caveats in the documentation: http://pandas.pydata.org/pandas-docs/stable/indexing.html#indexing-view-versus-copy\n",
      "C:\\Users\\srotc_000\\Anaconda3\\lib\\site-packages\\ipykernel\\__main__.py:27: SettingWithCopyWarning: \n",
      "A value is trying to be set on a copy of a slice from a DataFrame\n",
      "\n",
      "See the caveats in the documentation: http://pandas.pydata.org/pandas-docs/stable/indexing.html#indexing-view-versus-copy\n"
     ]
    },
    {
     "name": "stdout",
     "output_type": "stream",
     "text": [
      "La colonne de l'annotateur  1  a été crée.\n",
      "La colonne de l'annotateur  2  a été crée.\n",
      "La colonne de l'annotateur  3  a été crée.\n",
      "La colonne de l'annotateur  4  a été crée.\n",
      "La colonne de l'annotateur  5  a été crée.\n",
      "Les colonnes d'annotateurs sont crees. On débute la simulation des annotations.\n"
     ]
    }
   ],
   "source": [
    "breast = pd.read_csv('Datasets/BreastCancer/wdbc.csv', delimiter = \";\")\n",
    "\n",
    "N = breast.shape[0] #Nombre d'échantillon\n",
    "d = breast.shape[1]-1 #Nombre de variables explicatives\n",
    "R = 5 #Nombre d'annotateurs\n",
    "\n",
    "#Paramètres des annotateurs\n",
    "alpha = np.array([0.9, 0.7, 0.5, 0.4, 0.1])\n",
    "beta = np.array([0.95, 0.85, 0.62, 0.65, 0.58])\n",
    "\n",
    "#Création des colonnes d'annotateurs\n",
    "for i in range(1,R+1):\n",
    "    nom = \"label\"+str(i)\n",
    "    breast[nom] = np.zeros(N)\n",
    "    print(\"La colonne de l'annotateur \", i, \" a été crée.\")\n",
    "    \n",
    "print(\"Les colonnes d'annotateurs sont crees. On débute la simulation des annotations.\")\n",
    "    \n",
    "#Simulation des annotations en fonction des paramètres des annotateurs\n",
    "for i, elmt in enumerate(breast['trueLabel']):\n",
    "    for a in range(1, R+1):\n",
    "        nom = \"label\"+str(a)\n",
    "        if (elmt == 1):\n",
    "            breast[nom][i] = np.random.binomial(1,alpha[a-1],1)\n",
    "        else:\n",
    "            breast[nom][i] = 1-np.random.binomial(1,beta[a-1],1)\n",
    "            \n",
    "            \n",
    "            \n",
    "data = breast.ix[:,0:d] #variables explicatives\n",
    "truth = breast.ix[:,d+1] #vrai label\n",
    "labellors = breast.ix[:,d+2:] #labels des annotateurs\n",
    "\n",
    "#Ecriture dans un fichier séparé\n",
    "breast.to_csv('Datasets/BreastCancer/DB_wdbc.csv', sep=';', encoding='utf-8')"
   ]
  },
  {
   "cell_type": "code",
   "execution_count": null,
   "metadata": {
    "collapsed": true
   },
   "outputs": [],
   "source": []
  }
 ],
 "metadata": {
  "kernelspec": {
   "display_name": "Python 3",
   "language": "python",
   "name": "python3"
  },
  "language_info": {
   "codemirror_mode": {
    "name": "ipython",
    "version": 3
   },
   "file_extension": ".py",
   "mimetype": "text/x-python",
   "name": "python",
   "nbconvert_exporter": "python",
   "pygments_lexer": "ipython3",
   "version": "3.4.4"
  }
 },
 "nbformat": 4,
 "nbformat_minor": 0
}
